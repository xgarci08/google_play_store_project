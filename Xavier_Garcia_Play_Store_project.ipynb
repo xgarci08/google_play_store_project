{
 "cells": [
  {
   "cell_type": "markdown",
   "id": "manual-bundle",
   "metadata": {},
   "source": [
    "# App Rating Predicter "
   ]
  },
  {
   "cell_type": "markdown",
   "id": "theoretical-going",
   "metadata": {},
   "source": [
    "The objective of this project is to predict the rating of apps in the google play store based on the information provided on the apps."
   ]
  },
  {
   "cell_type": "code",
   "execution_count": 1,
   "id": "amazing-dictionary",
   "metadata": {},
   "outputs": [],
   "source": [
    "import numpy as np\n",
    "import pandas as pd\n",
    "import matplotlib.pyplot as plt\n",
    "import seaborn as sns\n",
    "from sklearn.linear_model import LinearRegression\n",
    "from sklearn.metrics import r2_score\n",
    "%matplotlib inline"
   ]
  },
  {
   "cell_type": "code",
   "execution_count": 2,
   "id": "unsigned-yemen",
   "metadata": {},
   "outputs": [],
   "source": [
    "apps = pd.read_csv(\"googleplaystore.csv\")"
   ]
  },
  {
   "cell_type": "markdown",
   "id": "viral-content",
   "metadata": {},
   "source": [
    "I imported all the necessary packages for my analysis and imported the dataset into the 'apps' variable."
   ]
  },
  {
   "cell_type": "markdown",
   "id": "pressing-concentration",
   "metadata": {},
   "source": [
    "## Cleaning Data"
   ]
  },
  {
   "cell_type": "code",
   "execution_count": 3,
   "id": "circular-heavy",
   "metadata": {},
   "outputs": [
    {
     "name": "stdout",
     "output_type": "stream",
     "text": [
      "<class 'pandas.core.frame.DataFrame'>\n",
      "RangeIndex: 10841 entries, 0 to 10840\n",
      "Data columns (total 13 columns):\n",
      " #   Column          Non-Null Count  Dtype  \n",
      "---  ------          --------------  -----  \n",
      " 0   App             10841 non-null  object \n",
      " 1   Category        10841 non-null  object \n",
      " 2   Rating          9367 non-null   float64\n",
      " 3   Reviews         10841 non-null  object \n",
      " 4   Size            10841 non-null  object \n",
      " 5   Installs        10841 non-null  object \n",
      " 6   Type            10840 non-null  object \n",
      " 7   Price           10841 non-null  object \n",
      " 8   Content Rating  10840 non-null  object \n",
      " 9   Genres          10841 non-null  object \n",
      " 10  Last Updated    10841 non-null  object \n",
      " 11  Current Ver     10833 non-null  object \n",
      " 12  Android Ver     10838 non-null  object \n",
      "dtypes: float64(1), object(12)\n",
      "memory usage: 1.1+ MB\n"
     ]
    }
   ],
   "source": [
    "apps.info()"
   ]
  },
  {
   "cell_type": "code",
   "execution_count": 4,
   "id": "particular-criterion",
   "metadata": {},
   "outputs": [
    {
     "data": {
      "text/html": [
       "<div>\n",
       "<style scoped>\n",
       "    .dataframe tbody tr th:only-of-type {\n",
       "        vertical-align: middle;\n",
       "    }\n",
       "\n",
       "    .dataframe tbody tr th {\n",
       "        vertical-align: top;\n",
       "    }\n",
       "\n",
       "    .dataframe thead th {\n",
       "        text-align: right;\n",
       "    }\n",
       "</style>\n",
       "<table border=\"1\" class=\"dataframe\">\n",
       "  <thead>\n",
       "    <tr style=\"text-align: right;\">\n",
       "      <th></th>\n",
       "      <th>App</th>\n",
       "      <th>Category</th>\n",
       "      <th>Rating</th>\n",
       "      <th>Reviews</th>\n",
       "      <th>Size</th>\n",
       "      <th>Installs</th>\n",
       "      <th>Type</th>\n",
       "      <th>Price</th>\n",
       "      <th>Content Rating</th>\n",
       "      <th>Genres</th>\n",
       "      <th>Last Updated</th>\n",
       "      <th>Current Ver</th>\n",
       "      <th>Android Ver</th>\n",
       "    </tr>\n",
       "  </thead>\n",
       "  <tbody>\n",
       "    <tr>\n",
       "      <th>0</th>\n",
       "      <td>Photo Editor &amp; Candy Camera &amp; Grid &amp; ScrapBook</td>\n",
       "      <td>ART_AND_DESIGN</td>\n",
       "      <td>4.1</td>\n",
       "      <td>159</td>\n",
       "      <td>19M</td>\n",
       "      <td>10,000+</td>\n",
       "      <td>Free</td>\n",
       "      <td>0</td>\n",
       "      <td>Everyone</td>\n",
       "      <td>Art &amp; Design</td>\n",
       "      <td>January 7, 2018</td>\n",
       "      <td>1.0.0</td>\n",
       "      <td>4.0.3 and up</td>\n",
       "    </tr>\n",
       "    <tr>\n",
       "      <th>1</th>\n",
       "      <td>Coloring book moana</td>\n",
       "      <td>ART_AND_DESIGN</td>\n",
       "      <td>3.9</td>\n",
       "      <td>967</td>\n",
       "      <td>14M</td>\n",
       "      <td>500,000+</td>\n",
       "      <td>Free</td>\n",
       "      <td>0</td>\n",
       "      <td>Everyone</td>\n",
       "      <td>Art &amp; Design;Pretend Play</td>\n",
       "      <td>January 15, 2018</td>\n",
       "      <td>2.0.0</td>\n",
       "      <td>4.0.3 and up</td>\n",
       "    </tr>\n",
       "    <tr>\n",
       "      <th>2</th>\n",
       "      <td>U Launcher Lite – FREE Live Cool Themes, Hide ...</td>\n",
       "      <td>ART_AND_DESIGN</td>\n",
       "      <td>4.7</td>\n",
       "      <td>87510</td>\n",
       "      <td>8.7M</td>\n",
       "      <td>5,000,000+</td>\n",
       "      <td>Free</td>\n",
       "      <td>0</td>\n",
       "      <td>Everyone</td>\n",
       "      <td>Art &amp; Design</td>\n",
       "      <td>August 1, 2018</td>\n",
       "      <td>1.2.4</td>\n",
       "      <td>4.0.3 and up</td>\n",
       "    </tr>\n",
       "    <tr>\n",
       "      <th>3</th>\n",
       "      <td>Sketch - Draw &amp; Paint</td>\n",
       "      <td>ART_AND_DESIGN</td>\n",
       "      <td>4.5</td>\n",
       "      <td>215644</td>\n",
       "      <td>25M</td>\n",
       "      <td>50,000,000+</td>\n",
       "      <td>Free</td>\n",
       "      <td>0</td>\n",
       "      <td>Teen</td>\n",
       "      <td>Art &amp; Design</td>\n",
       "      <td>June 8, 2018</td>\n",
       "      <td>Varies with device</td>\n",
       "      <td>4.2 and up</td>\n",
       "    </tr>\n",
       "    <tr>\n",
       "      <th>4</th>\n",
       "      <td>Pixel Draw - Number Art Coloring Book</td>\n",
       "      <td>ART_AND_DESIGN</td>\n",
       "      <td>4.3</td>\n",
       "      <td>967</td>\n",
       "      <td>2.8M</td>\n",
       "      <td>100,000+</td>\n",
       "      <td>Free</td>\n",
       "      <td>0</td>\n",
       "      <td>Everyone</td>\n",
       "      <td>Art &amp; Design;Creativity</td>\n",
       "      <td>June 20, 2018</td>\n",
       "      <td>1.1</td>\n",
       "      <td>4.4 and up</td>\n",
       "    </tr>\n",
       "  </tbody>\n",
       "</table>\n",
       "</div>"
      ],
      "text/plain": [
       "                                                 App        Category  Rating  \\\n",
       "0     Photo Editor & Candy Camera & Grid & ScrapBook  ART_AND_DESIGN     4.1   \n",
       "1                                Coloring book moana  ART_AND_DESIGN     3.9   \n",
       "2  U Launcher Lite – FREE Live Cool Themes, Hide ...  ART_AND_DESIGN     4.7   \n",
       "3                              Sketch - Draw & Paint  ART_AND_DESIGN     4.5   \n",
       "4              Pixel Draw - Number Art Coloring Book  ART_AND_DESIGN     4.3   \n",
       "\n",
       "  Reviews  Size     Installs  Type Price Content Rating  \\\n",
       "0     159   19M      10,000+  Free     0       Everyone   \n",
       "1     967   14M     500,000+  Free     0       Everyone   \n",
       "2   87510  8.7M   5,000,000+  Free     0       Everyone   \n",
       "3  215644   25M  50,000,000+  Free     0           Teen   \n",
       "4     967  2.8M     100,000+  Free     0       Everyone   \n",
       "\n",
       "                      Genres      Last Updated         Current Ver  \\\n",
       "0               Art & Design   January 7, 2018               1.0.0   \n",
       "1  Art & Design;Pretend Play  January 15, 2018               2.0.0   \n",
       "2               Art & Design    August 1, 2018               1.2.4   \n",
       "3               Art & Design      June 8, 2018  Varies with device   \n",
       "4    Art & Design;Creativity     June 20, 2018                 1.1   \n",
       "\n",
       "    Android Ver  \n",
       "0  4.0.3 and up  \n",
       "1  4.0.3 and up  \n",
       "2  4.0.3 and up  \n",
       "3    4.2 and up  \n",
       "4    4.4 and up  "
      ]
     },
     "execution_count": 4,
     "metadata": {},
     "output_type": "execute_result"
    }
   ],
   "source": [
    "apps.head(5)"
   ]
  },
  {
   "cell_type": "markdown",
   "id": "private-terrorism",
   "metadata": {},
   "source": [
    "### Dropping Missing and Unneeded Values"
   ]
  },
  {
   "cell_type": "markdown",
   "id": "progressive-communist",
   "metadata": {},
   "source": [
    "There are a lot of missing values in Rating. Since I will be using this column to train my model later, I need to remove these rows."
   ]
  },
  {
   "cell_type": "code",
   "execution_count": 5,
   "id": "surgical-trademark",
   "metadata": {},
   "outputs": [],
   "source": [
    "apps_no_nulls = apps[apps.Rating.isnull()==False]"
   ]
  },
  {
   "cell_type": "code",
   "execution_count": 6,
   "id": "thousand-fighter",
   "metadata": {},
   "outputs": [
    {
     "name": "stdout",
     "output_type": "stream",
     "text": [
      "<class 'pandas.core.frame.DataFrame'>\n",
      "Int64Index: 9367 entries, 0 to 10840\n",
      "Data columns (total 13 columns):\n",
      " #   Column          Non-Null Count  Dtype  \n",
      "---  ------          --------------  -----  \n",
      " 0   App             9367 non-null   object \n",
      " 1   Category        9367 non-null   object \n",
      " 2   Rating          9367 non-null   float64\n",
      " 3   Reviews         9367 non-null   object \n",
      " 4   Size            9367 non-null   object \n",
      " 5   Installs        9367 non-null   object \n",
      " 6   Type            9367 non-null   object \n",
      " 7   Price           9367 non-null   object \n",
      " 8   Content Rating  9366 non-null   object \n",
      " 9   Genres          9367 non-null   object \n",
      " 10  Last Updated    9367 non-null   object \n",
      " 11  Current Ver     9363 non-null   object \n",
      " 12  Android Ver     9364 non-null   object \n",
      "dtypes: float64(1), object(12)\n",
      "memory usage: 1.0+ MB\n"
     ]
    }
   ],
   "source": [
    "apps_no_nulls.info()"
   ]
  },
  {
   "cell_type": "markdown",
   "id": "instant-anatomy",
   "metadata": {},
   "source": [
    "There are still a few missing values in Content Rating, Current Ver and Android Ver.  I  don't need the Current Ver or Android Ver columns for my analysis, so I will be dropping these columns. I also don't need the Last Updated column and will be dropping it. The Genres column is very similar to Category and has high cardinality. I will be reomving this column. That only leaves 1 missing value in Content Rating. I will be removing this row."
   ]
  },
  {
   "cell_type": "markdown",
   "id": "catholic-miracle",
   "metadata": {},
   "source": [
    "<u>Work</u>"
   ]
  },
  {
   "cell_type": "code",
   "execution_count": 7,
   "id": "reliable-embassy",
   "metadata": {},
   "outputs": [],
   "source": [
    "apps_no_nulls = apps_no_nulls[apps_no_nulls['Content Rating'].isnull()==False]"
   ]
  },
  {
   "cell_type": "code",
   "execution_count": 8,
   "id": "designed-estate",
   "metadata": {},
   "outputs": [],
   "source": [
    "apps_no_nulls.drop(['Current Ver','Android Ver','Last Updated','Genres'],axis=1,inplace = True)"
   ]
  },
  {
   "cell_type": "code",
   "execution_count": 9,
   "id": "therapeutic-aside",
   "metadata": {},
   "outputs": [
    {
     "name": "stdout",
     "output_type": "stream",
     "text": [
      "<class 'pandas.core.frame.DataFrame'>\n",
      "Int64Index: 9366 entries, 0 to 10840\n",
      "Data columns (total 9 columns):\n",
      " #   Column          Non-Null Count  Dtype  \n",
      "---  ------          --------------  -----  \n",
      " 0   App             9366 non-null   object \n",
      " 1   Category        9366 non-null   object \n",
      " 2   Rating          9366 non-null   float64\n",
      " 3   Reviews         9366 non-null   object \n",
      " 4   Size            9366 non-null   object \n",
      " 5   Installs        9366 non-null   object \n",
      " 6   Type            9366 non-null   object \n",
      " 7   Price           9366 non-null   object \n",
      " 8   Content Rating  9366 non-null   object \n",
      "dtypes: float64(1), object(8)\n",
      "memory usage: 731.7+ KB\n"
     ]
    }
   ],
   "source": [
    "apps_no_nulls.info()"
   ]
  },
  {
   "cell_type": "markdown",
   "id": "imperial-mortality",
   "metadata": {},
   "source": [
    "## Type Conversion and Formatting Corrections"
   ]
  },
  {
   "cell_type": "markdown",
   "id": "removed-reach",
   "metadata": {},
   "source": [
    "I would also like to look at the types of each column and see if they are appropriate.\n",
    "<p><b>a.</b> The first column that looks off is the Size column. This column has MB and KB units in each cell and is therefore a string type. I would like to use KB as the consistent unit of measure and I would like to convert this column into an float data type. It also has a value of 'Varies with device'. I will need to drop these values."
   ]
  },
  {
   "cell_type": "code",
   "execution_count": 10,
   "id": "august-hormone",
   "metadata": {},
   "outputs": [
    {
     "data": {
      "text/plain": [
       "Varies with device    1637\n",
       "14M                    166\n",
       "12M                    161\n",
       "11M                    160\n",
       "15M                    159\n",
       "                      ... \n",
       "190k                     1\n",
       "636k                     1\n",
       "691k                     1\n",
       "478k                     1\n",
       "371k                     1\n",
       "Name: Size, Length: 414, dtype: int64"
      ]
     },
     "execution_count": 10,
     "metadata": {},
     "output_type": "execute_result"
    }
   ],
   "source": [
    "apps_no_nulls['Size'].value_counts()"
   ]
  },
  {
   "cell_type": "code",
   "execution_count": 11,
   "id": "adjusted-snowboard",
   "metadata": {
    "scrolled": true
   },
   "outputs": [
    {
     "data": {
      "text/html": [
       "<div>\n",
       "<style scoped>\n",
       "    .dataframe tbody tr th:only-of-type {\n",
       "        vertical-align: middle;\n",
       "    }\n",
       "\n",
       "    .dataframe tbody tr th {\n",
       "        vertical-align: top;\n",
       "    }\n",
       "\n",
       "    .dataframe thead th {\n",
       "        text-align: right;\n",
       "    }\n",
       "</style>\n",
       "<table border=\"1\" class=\"dataframe\">\n",
       "  <thead>\n",
       "    <tr style=\"text-align: right;\">\n",
       "      <th></th>\n",
       "      <th>App</th>\n",
       "      <th>Category</th>\n",
       "      <th>Rating</th>\n",
       "      <th>Reviews</th>\n",
       "      <th>Size</th>\n",
       "      <th>Installs</th>\n",
       "      <th>Type</th>\n",
       "      <th>Price</th>\n",
       "      <th>Content Rating</th>\n",
       "    </tr>\n",
       "  </thead>\n",
       "  <tbody>\n",
       "    <tr>\n",
       "      <th>37</th>\n",
       "      <td>Floor Plan Creator</td>\n",
       "      <td>ART_AND_DESIGN</td>\n",
       "      <td>4.1</td>\n",
       "      <td>36639</td>\n",
       "      <td>Varies with device</td>\n",
       "      <td>5,000,000+</td>\n",
       "      <td>Free</td>\n",
       "      <td>0</td>\n",
       "      <td>Everyone</td>\n",
       "    </tr>\n",
       "    <tr>\n",
       "      <th>42</th>\n",
       "      <td>Textgram - write on photos</td>\n",
       "      <td>ART_AND_DESIGN</td>\n",
       "      <td>4.4</td>\n",
       "      <td>295221</td>\n",
       "      <td>Varies with device</td>\n",
       "      <td>10,000,000+</td>\n",
       "      <td>Free</td>\n",
       "      <td>0</td>\n",
       "      <td>Everyone</td>\n",
       "    </tr>\n",
       "    <tr>\n",
       "      <th>52</th>\n",
       "      <td>Used Cars and Trucks for Sale</td>\n",
       "      <td>AUTO_AND_VEHICLES</td>\n",
       "      <td>4.6</td>\n",
       "      <td>17057</td>\n",
       "      <td>Varies with device</td>\n",
       "      <td>1,000,000+</td>\n",
       "      <td>Free</td>\n",
       "      <td>0</td>\n",
       "      <td>Everyone</td>\n",
       "    </tr>\n",
       "    <tr>\n",
       "      <th>67</th>\n",
       "      <td>Ulysse Speedometer</td>\n",
       "      <td>AUTO_AND_VEHICLES</td>\n",
       "      <td>4.3</td>\n",
       "      <td>40211</td>\n",
       "      <td>Varies with device</td>\n",
       "      <td>5,000,000+</td>\n",
       "      <td>Free</td>\n",
       "      <td>0</td>\n",
       "      <td>Everyone</td>\n",
       "    </tr>\n",
       "    <tr>\n",
       "      <th>68</th>\n",
       "      <td>REPUVE</td>\n",
       "      <td>AUTO_AND_VEHICLES</td>\n",
       "      <td>3.9</td>\n",
       "      <td>356</td>\n",
       "      <td>Varies with device</td>\n",
       "      <td>100,000+</td>\n",
       "      <td>Free</td>\n",
       "      <td>0</td>\n",
       "      <td>Everyone</td>\n",
       "    </tr>\n",
       "  </tbody>\n",
       "</table>\n",
       "</div>"
      ],
      "text/plain": [
       "                              App           Category  Rating Reviews  \\\n",
       "37             Floor Plan Creator     ART_AND_DESIGN     4.1   36639   \n",
       "42     Textgram - write on photos     ART_AND_DESIGN     4.4  295221   \n",
       "52  Used Cars and Trucks for Sale  AUTO_AND_VEHICLES     4.6   17057   \n",
       "67             Ulysse Speedometer  AUTO_AND_VEHICLES     4.3   40211   \n",
       "68                         REPUVE  AUTO_AND_VEHICLES     3.9     356   \n",
       "\n",
       "                  Size     Installs  Type Price Content Rating  \n",
       "37  Varies with device   5,000,000+  Free     0       Everyone  \n",
       "42  Varies with device  10,000,000+  Free     0       Everyone  \n",
       "52  Varies with device   1,000,000+  Free     0       Everyone  \n",
       "67  Varies with device   5,000,000+  Free     0       Everyone  \n",
       "68  Varies with device     100,000+  Free     0       Everyone  "
      ]
     },
     "execution_count": 11,
     "metadata": {},
     "output_type": "execute_result"
    }
   ],
   "source": [
    "apps_no_nulls[apps_no_nulls['Size']=='Varies with device'].head()"
   ]
  },
  {
   "cell_type": "markdown",
   "id": "metallic-planner",
   "metadata": {},
   "source": [
    "<u>Work</u>"
   ]
  },
  {
   "cell_type": "code",
   "execution_count": 12,
   "id": "limiting-cooking",
   "metadata": {},
   "outputs": [],
   "source": [
    "apps_no_nulls.drop(apps_no_nulls[apps_no_nulls['Size']=='Varies with device'].index,axis=0,inplace = True)"
   ]
  },
  {
   "cell_type": "code",
   "execution_count": 13,
   "id": "streaming-austin",
   "metadata": {},
   "outputs": [],
   "source": [
    "def no_k_or_m(row):\n",
    "    if 'M' in row:\n",
    "        row_copy = row.replace('M','')\n",
    "        return float(row_copy)*1000\n",
    "    if 'k' in row:\n",
    "        row = row.replace('k','')\n",
    "        return float(row)"
   ]
  },
  {
   "cell_type": "code",
   "execution_count": 14,
   "id": "liable-yeast",
   "metadata": {},
   "outputs": [],
   "source": [
    "apps_no_nulls['Size'] = apps_no_nulls['Size'].apply(no_k_or_m)"
   ]
  },
  {
   "cell_type": "code",
   "execution_count": 15,
   "id": "every-persian",
   "metadata": {},
   "outputs": [
    {
     "name": "stdout",
     "output_type": "stream",
     "text": [
      "<class 'pandas.core.frame.DataFrame'>\n",
      "Int64Index: 7729 entries, 0 to 10840\n",
      "Data columns (total 9 columns):\n",
      " #   Column          Non-Null Count  Dtype  \n",
      "---  ------          --------------  -----  \n",
      " 0   App             7729 non-null   object \n",
      " 1   Category        7729 non-null   object \n",
      " 2   Rating          7729 non-null   float64\n",
      " 3   Reviews         7729 non-null   object \n",
      " 4   Size            7729 non-null   float64\n",
      " 5   Installs        7729 non-null   object \n",
      " 6   Type            7729 non-null   object \n",
      " 7   Price           7729 non-null   object \n",
      " 8   Content Rating  7729 non-null   object \n",
      "dtypes: float64(2), object(7)\n",
      "memory usage: 603.8+ KB\n"
     ]
    }
   ],
   "source": [
    "apps_no_nulls.info()"
   ]
  },
  {
   "cell_type": "markdown",
   "id": "taken-facility",
   "metadata": {},
   "source": [
    "<b>b.</b> I also want to change the type of reviews to int."
   ]
  },
  {
   "cell_type": "code",
   "execution_count": 16,
   "id": "exempt-brazil",
   "metadata": {},
   "outputs": [
    {
     "data": {
      "text/plain": [
       "2    82\n",
       "3    77\n",
       "5    74\n",
       "4    72\n",
       "1    66\n",
       "Name: Reviews, dtype: int64"
      ]
     },
     "execution_count": 16,
     "metadata": {},
     "output_type": "execute_result"
    }
   ],
   "source": [
    "apps_no_nulls['Reviews'].value_counts().head()"
   ]
  },
  {
   "cell_type": "markdown",
   "id": "outdoor-celtic",
   "metadata": {},
   "source": [
    "<u>Work"
   ]
  },
  {
   "cell_type": "code",
   "execution_count": 17,
   "id": "according-broadcasting",
   "metadata": {},
   "outputs": [],
   "source": [
    "apps_no_nulls['Reviews'] = apps_no_nulls['Reviews'].astype('int64')"
   ]
  },
  {
   "cell_type": "code",
   "execution_count": 18,
   "id": "geological-wings",
   "metadata": {},
   "outputs": [
    {
     "data": {
      "text/plain": [
       "2    82\n",
       "3    77\n",
       "5    74\n",
       "4    72\n",
       "1    66\n",
       "Name: Reviews, dtype: int64"
      ]
     },
     "execution_count": 18,
     "metadata": {},
     "output_type": "execute_result"
    }
   ],
   "source": [
    "apps_no_nulls['Reviews'].value_counts().head()"
   ]
  },
  {
   "cell_type": "markdown",
   "id": "rocky-beads",
   "metadata": {},
   "source": [
    "<b>c.</b> The Installs column has '+' and ',' in the values so it is a string data type. I will be removing these characters and converting it to an integer."
   ]
  },
  {
   "cell_type": "code",
   "execution_count": 19,
   "id": "billion-syndrome",
   "metadata": {},
   "outputs": [
    {
     "data": {
      "text/plain": [
       "1,000,000+     1302\n",
       "100,000+       1037\n",
       "10,000+         969\n",
       "10,000,000+     825\n",
       "1,000+          690\n",
       "Name: Installs, dtype: int64"
      ]
     },
     "execution_count": 19,
     "metadata": {},
     "output_type": "execute_result"
    }
   ],
   "source": [
    "apps_no_nulls['Installs'].value_counts().head()"
   ]
  },
  {
   "cell_type": "markdown",
   "id": "million-palestine",
   "metadata": {},
   "source": [
    "<u>Work"
   ]
  },
  {
   "cell_type": "code",
   "execution_count": 20,
   "id": "perceived-bruce",
   "metadata": {},
   "outputs": [],
   "source": [
    "apps_no_nulls['Installs'] = apps_no_nulls['Installs'].str.replace(r'[\\+,]','',regex=True)"
   ]
  },
  {
   "cell_type": "code",
   "execution_count": 21,
   "id": "devoted-school",
   "metadata": {},
   "outputs": [],
   "source": [
    "apps_no_nulls['Installs'] = apps_no_nulls['Installs'].astype('int64')"
   ]
  },
  {
   "cell_type": "code",
   "execution_count": 22,
   "id": "wrong-principal",
   "metadata": {},
   "outputs": [
    {
     "data": {
      "text/plain": [
       "1000000     1302\n",
       "100000      1037\n",
       "10000        969\n",
       "10000000     825\n",
       "1000         690\n",
       "Name: Installs, dtype: int64"
      ]
     },
     "execution_count": 22,
     "metadata": {},
     "output_type": "execute_result"
    }
   ],
   "source": [
    "apps_no_nulls['Installs'].value_counts().head()"
   ]
  },
  {
   "cell_type": "markdown",
   "id": "accessible-account",
   "metadata": {},
   "source": [
    "<b>d.</b> Now I want to remeove the $ from the Price column and convert it to a float data type."
   ]
  },
  {
   "cell_type": "code",
   "execution_count": 23,
   "id": "interstate-dylan",
   "metadata": {},
   "outputs": [
    {
     "data": {
      "text/plain": [
       "0        7150\n",
       "$0.99     106\n",
       "$2.99     101\n",
       "$4.99      63\n",
       "$1.99      53\n",
       "Name: Price, dtype: int64"
      ]
     },
     "execution_count": 23,
     "metadata": {},
     "output_type": "execute_result"
    }
   ],
   "source": [
    "apps_no_nulls['Price'].value_counts().head()"
   ]
  },
  {
   "cell_type": "markdown",
   "id": "racial-associate",
   "metadata": {},
   "source": [
    "<u>Work"
   ]
  },
  {
   "cell_type": "code",
   "execution_count": 24,
   "id": "maritime-tolerance",
   "metadata": {},
   "outputs": [],
   "source": [
    "apps_no_nulls['Price'] = apps_no_nulls['Price'].str.replace('$','',regex=True)"
   ]
  },
  {
   "cell_type": "code",
   "execution_count": 25,
   "id": "progressive-decimal",
   "metadata": {},
   "outputs": [],
   "source": [
    "apps_no_nulls['Price'] = apps_no_nulls['Price'].astype('float')"
   ]
  },
  {
   "cell_type": "code",
   "execution_count": 26,
   "id": "generic-peoples",
   "metadata": {},
   "outputs": [
    {
     "data": {
      "text/plain": [
       "0.00    7150\n",
       "0.99     106\n",
       "2.99     101\n",
       "4.99      63\n",
       "1.99      53\n",
       "Name: Price, dtype: int64"
      ]
     },
     "execution_count": 26,
     "metadata": {},
     "output_type": "execute_result"
    }
   ],
   "source": [
    "apps_no_nulls['Price'].value_counts().head()"
   ]
  },
  {
   "cell_type": "markdown",
   "id": "upper-convention",
   "metadata": {},
   "source": [
    "## Check Data for Inconsistencies"
   ]
  },
  {
   "cell_type": "code",
   "execution_count": 27,
   "id": "associate-continuity",
   "metadata": {},
   "outputs": [],
   "source": [
    "apps_no_nulls_tc_and_formatted = apps_no_nulls.copy()"
   ]
  },
  {
   "cell_type": "markdown",
   "id": "verbal-fiction",
   "metadata": {},
   "source": [
    "<b>a.</b> The average rating of an app should fall between 1 and 5 as this is the acceptable range of values for a rating on the Play Store."
   ]
  },
  {
   "cell_type": "code",
   "execution_count": 28,
   "id": "responsible-killer",
   "metadata": {},
   "outputs": [
    {
     "data": {
      "text/html": [
       "<div>\n",
       "<style scoped>\n",
       "    .dataframe tbody tr th:only-of-type {\n",
       "        vertical-align: middle;\n",
       "    }\n",
       "\n",
       "    .dataframe tbody tr th {\n",
       "        vertical-align: top;\n",
       "    }\n",
       "\n",
       "    .dataframe thead th {\n",
       "        text-align: right;\n",
       "    }\n",
       "</style>\n",
       "<table border=\"1\" class=\"dataframe\">\n",
       "  <thead>\n",
       "    <tr style=\"text-align: right;\">\n",
       "      <th></th>\n",
       "      <th>Rating</th>\n",
       "      <th>Reviews</th>\n",
       "      <th>Size</th>\n",
       "      <th>Installs</th>\n",
       "      <th>Price</th>\n",
       "    </tr>\n",
       "  </thead>\n",
       "  <tbody>\n",
       "    <tr>\n",
       "      <th>count</th>\n",
       "      <td>7729.000000</td>\n",
       "      <td>7.729000e+03</td>\n",
       "      <td>7729.000000</td>\n",
       "      <td>7.729000e+03</td>\n",
       "      <td>7729.000000</td>\n",
       "    </tr>\n",
       "    <tr>\n",
       "      <th>mean</th>\n",
       "      <td>4.173852</td>\n",
       "      <td>2.946726e+05</td>\n",
       "      <td>22957.606870</td>\n",
       "      <td>8.417734e+06</td>\n",
       "      <td>1.127614</td>\n",
       "    </tr>\n",
       "    <tr>\n",
       "      <th>std</th>\n",
       "      <td>0.544563</td>\n",
       "      <td>1.863227e+06</td>\n",
       "      <td>23445.491095</td>\n",
       "      <td>5.013846e+07</td>\n",
       "      <td>17.401297</td>\n",
       "    </tr>\n",
       "    <tr>\n",
       "      <th>min</th>\n",
       "      <td>1.000000</td>\n",
       "      <td>1.000000e+00</td>\n",
       "      <td>8.500000</td>\n",
       "      <td>1.000000e+00</td>\n",
       "      <td>0.000000</td>\n",
       "    </tr>\n",
       "    <tr>\n",
       "      <th>25%</th>\n",
       "      <td>4.000000</td>\n",
       "      <td>1.080000e+02</td>\n",
       "      <td>5300.000000</td>\n",
       "      <td>1.000000e+04</td>\n",
       "      <td>0.000000</td>\n",
       "    </tr>\n",
       "    <tr>\n",
       "      <th>50%</th>\n",
       "      <td>4.300000</td>\n",
       "      <td>2.328000e+03</td>\n",
       "      <td>14000.000000</td>\n",
       "      <td>1.000000e+05</td>\n",
       "      <td>0.000000</td>\n",
       "    </tr>\n",
       "    <tr>\n",
       "      <th>75%</th>\n",
       "      <td>4.500000</td>\n",
       "      <td>3.896100e+04</td>\n",
       "      <td>33000.000000</td>\n",
       "      <td>1.000000e+06</td>\n",
       "      <td>0.000000</td>\n",
       "    </tr>\n",
       "    <tr>\n",
       "      <th>max</th>\n",
       "      <td>5.000000</td>\n",
       "      <td>4.489389e+07</td>\n",
       "      <td>100000.000000</td>\n",
       "      <td>1.000000e+09</td>\n",
       "      <td>400.000000</td>\n",
       "    </tr>\n",
       "  </tbody>\n",
       "</table>\n",
       "</div>"
      ],
      "text/plain": [
       "            Rating       Reviews           Size      Installs        Price\n",
       "count  7729.000000  7.729000e+03    7729.000000  7.729000e+03  7729.000000\n",
       "mean      4.173852  2.946726e+05   22957.606870  8.417734e+06     1.127614\n",
       "std       0.544563  1.863227e+06   23445.491095  5.013846e+07    17.401297\n",
       "min       1.000000  1.000000e+00       8.500000  1.000000e+00     0.000000\n",
       "25%       4.000000  1.080000e+02    5300.000000  1.000000e+04     0.000000\n",
       "50%       4.300000  2.328000e+03   14000.000000  1.000000e+05     0.000000\n",
       "75%       4.500000  3.896100e+04   33000.000000  1.000000e+06     0.000000\n",
       "max       5.000000  4.489389e+07  100000.000000  1.000000e+09   400.000000"
      ]
     },
     "execution_count": 28,
     "metadata": {},
     "output_type": "execute_result"
    }
   ],
   "source": [
    "apps_no_nulls_tc_and_formatted.describe()"
   ]
  },
  {
   "cell_type": "markdown",
   "id": "british-possible",
   "metadata": {},
   "source": [
    "The min for the Rating column is 1 and the max is 5. This is correct."
   ]
  },
  {
   "cell_type": "markdown",
   "id": "general-cartoon",
   "metadata": {},
   "source": [
    "<b>b.</b> There are apps that are of type='Free'. I want to make sure that all of these apps are marked with a price of 0."
   ]
  },
  {
   "cell_type": "code",
   "execution_count": 29,
   "id": "adequate-warren",
   "metadata": {},
   "outputs": [
    {
     "data": {
      "text/plain": [
       "0.00    7150\n",
       "0.99     106\n",
       "2.99     101\n",
       "4.99      63\n",
       "1.99      53\n",
       "Name: Price, dtype: int64"
      ]
     },
     "execution_count": 29,
     "metadata": {},
     "output_type": "execute_result"
    }
   ],
   "source": [
    "apps_no_nulls_tc_and_formatted['Price'].value_counts().head()"
   ]
  },
  {
   "cell_type": "code",
   "execution_count": 30,
   "id": "amazing-photography",
   "metadata": {},
   "outputs": [
    {
     "data": {
      "text/plain": [
       "Price\n",
       "0.0      7150\n",
       "dtype: int64"
      ]
     },
     "execution_count": 30,
     "metadata": {},
     "output_type": "execute_result"
    }
   ],
   "source": [
    "apps_no_nulls_tc_and_formatted.loc[apps_no_nulls_tc_and_formatted['Type']=='Free',['Price']].value_counts()"
   ]
  },
  {
   "cell_type": "markdown",
   "id": "extraordinary-lawyer",
   "metadata": {},
   "source": [
    "The number of \\\\$0 apps is 7150 and the apps of Type='Free', of which there are 7150, only have a price of $0. This means there is no inconsistency bewteen these two columns. I will now drop the Type column because I won't need it anymore. This data can be retrieved from the Price column if needed."
   ]
  },
  {
   "cell_type": "code",
   "execution_count": 31,
   "id": "resident-chosen",
   "metadata": {},
   "outputs": [],
   "source": [
    "apps_no_nulls_tc_and_formatted = apps_no_nulls_tc_and_formatted.drop('Type',axis='columns')"
   ]
  },
  {
   "cell_type": "markdown",
   "id": "automatic-viking",
   "metadata": {},
   "source": [
    "<b>c.</b> I want to check if there are apps with more reviews than they should. I will be using the Installs column for this. "
   ]
  },
  {
   "cell_type": "code",
   "execution_count": 32,
   "id": "romantic-timing",
   "metadata": {},
   "outputs": [
    {
     "data": {
      "text/html": [
       "<div>\n",
       "<style scoped>\n",
       "    .dataframe tbody tr th:only-of-type {\n",
       "        vertical-align: middle;\n",
       "    }\n",
       "\n",
       "    .dataframe tbody tr th {\n",
       "        vertical-align: top;\n",
       "    }\n",
       "\n",
       "    .dataframe thead th {\n",
       "        text-align: right;\n",
       "    }\n",
       "</style>\n",
       "<table border=\"1\" class=\"dataframe\">\n",
       "  <thead>\n",
       "    <tr style=\"text-align: right;\">\n",
       "      <th></th>\n",
       "      <th>App</th>\n",
       "      <th>Category</th>\n",
       "      <th>Rating</th>\n",
       "      <th>Reviews</th>\n",
       "      <th>Size</th>\n",
       "      <th>Installs</th>\n",
       "      <th>Price</th>\n",
       "      <th>Content Rating</th>\n",
       "    </tr>\n",
       "  </thead>\n",
       "  <tbody>\n",
       "    <tr>\n",
       "      <th>2454</th>\n",
       "      <td>KBA-EZ Health Guide</td>\n",
       "      <td>MEDICAL</td>\n",
       "      <td>5.0</td>\n",
       "      <td>4</td>\n",
       "      <td>25000.0</td>\n",
       "      <td>1</td>\n",
       "      <td>0.00</td>\n",
       "      <td>Everyone</td>\n",
       "    </tr>\n",
       "    <tr>\n",
       "      <th>5917</th>\n",
       "      <td>Ra Ga Ba</td>\n",
       "      <td>GAME</td>\n",
       "      <td>5.0</td>\n",
       "      <td>2</td>\n",
       "      <td>20000.0</td>\n",
       "      <td>1</td>\n",
       "      <td>1.49</td>\n",
       "      <td>Everyone</td>\n",
       "    </tr>\n",
       "    <tr>\n",
       "      <th>6700</th>\n",
       "      <td>Brick Breaker BR</td>\n",
       "      <td>GAME</td>\n",
       "      <td>5.0</td>\n",
       "      <td>7</td>\n",
       "      <td>19000.0</td>\n",
       "      <td>5</td>\n",
       "      <td>0.00</td>\n",
       "      <td>Everyone</td>\n",
       "    </tr>\n",
       "    <tr>\n",
       "      <th>7402</th>\n",
       "      <td>Trovami se ci riesci</td>\n",
       "      <td>GAME</td>\n",
       "      <td>5.0</td>\n",
       "      <td>11</td>\n",
       "      <td>6100.0</td>\n",
       "      <td>10</td>\n",
       "      <td>0.00</td>\n",
       "      <td>Everyone</td>\n",
       "    </tr>\n",
       "    <tr>\n",
       "      <th>8591</th>\n",
       "      <td>DN Blog</td>\n",
       "      <td>SOCIAL</td>\n",
       "      <td>5.0</td>\n",
       "      <td>20</td>\n",
       "      <td>4200.0</td>\n",
       "      <td>10</td>\n",
       "      <td>0.00</td>\n",
       "      <td>Teen</td>\n",
       "    </tr>\n",
       "    <tr>\n",
       "      <th>10697</th>\n",
       "      <td>Mu.F.O.</td>\n",
       "      <td>GAME</td>\n",
       "      <td>5.0</td>\n",
       "      <td>2</td>\n",
       "      <td>16000.0</td>\n",
       "      <td>1</td>\n",
       "      <td>0.99</td>\n",
       "      <td>Everyone</td>\n",
       "    </tr>\n",
       "  </tbody>\n",
       "</table>\n",
       "</div>"
      ],
      "text/plain": [
       "                        App Category  Rating  Reviews     Size  Installs  \\\n",
       "2454    KBA-EZ Health Guide  MEDICAL     5.0        4  25000.0         1   \n",
       "5917               Ra Ga Ba     GAME     5.0        2  20000.0         1   \n",
       "6700       Brick Breaker BR     GAME     5.0        7  19000.0         5   \n",
       "7402   Trovami se ci riesci     GAME     5.0       11   6100.0        10   \n",
       "8591                DN Blog   SOCIAL     5.0       20   4200.0        10   \n",
       "10697               Mu.F.O.     GAME     5.0        2  16000.0         1   \n",
       "\n",
       "       Price Content Rating  \n",
       "2454    0.00       Everyone  \n",
       "5917    1.49       Everyone  \n",
       "6700    0.00       Everyone  \n",
       "7402    0.00       Everyone  \n",
       "8591    0.00           Teen  \n",
       "10697   0.99       Everyone  "
      ]
     },
     "execution_count": 32,
     "metadata": {},
     "output_type": "execute_result"
    }
   ],
   "source": [
    "apps_no_nulls_tc_and_formatted[apps_no_nulls_tc_and_formatted.Reviews>apps_no_nulls_tc_and_formatted.Installs]"
   ]
  },
  {
   "cell_type": "markdown",
   "id": "external-bouquet",
   "metadata": {},
   "source": [
    "There are several apps with more ratings than installs however, this is because I took out the '+' at the end of Installs which means Installs used to be a range of values. All the values of Reviews are less than the floor of the next bin of Installs (1->5->10->100), so I will be keeping all these rows since they make sense with how the data was first structured."
   ]
  },
  {
   "cell_type": "markdown",
   "id": "reasonable-shopping",
   "metadata": {},
   "source": [
    "## Outlier analysis"
   ]
  },
  {
   "cell_type": "markdown",
   "id": "automotive-location",
   "metadata": {},
   "source": [
    "Next I want to see if there are any outliers found in some of the columns.\n",
    "<p><b>a.</b> I will look at the Price column first."
   ]
  },
  {
   "cell_type": "code",
   "execution_count": 33,
   "id": "collect-occupation",
   "metadata": {},
   "outputs": [
    {
     "data": {
      "text/plain": [
       "Text(0.5, 1.0, 'Price($) Boxplot')"
      ]
     },
     "execution_count": 33,
     "metadata": {},
     "output_type": "execute_result"
    },
    {
     "data": {
      "image/png": "[encoded data removed]",
      "text/plain": [
       "<Figure size 432x288 with 1 Axes>"
      ]
     },
     "metadata": {
      "needs_background": "light"
     },
     "output_type": "display_data"
    }
   ],
   "source": [
    "sns.boxplot(x=apps_no_nulls_tc_and_formatted.Price)\n",
    "plt.title('Price($) Boxplot')"
   ]
  },
  {
   "cell_type": "code",
   "execution_count": 34,
   "id": "rural-gates",
   "metadata": {},
   "outputs": [
    {
     "data": {
      "text/plain": [
       "Text(0.5, 1.0, 'Price($) Boxplot')"
      ]
     },
     "execution_count": 34,
     "metadata": {},
     "output_type": "execute_result"
    },
    {
     "data": {
      "image/png": "[encoded data removed]",
      "text/plain": [
       "<Figure size 432x288 with 1 Axes>"
      ]
     },
     "metadata": {
      "needs_background": "light"
     },
     "output_type": "display_data"
    }
   ],
   "source": [
    "sns.boxplot(x=apps_no_nulls_tc_and_formatted.loc[apps_no_nulls_tc_and_formatted.Price<200,'Price'])\n",
    "plt.title('Price($) Boxplot')"
   ]
  },
  {
   "cell_type": "markdown",
   "id": "sitting-journalism",
   "metadata": {},
   "source": [
    "Most of the apps are free so everything above that is being listed as an outlier. However, within these outliers I can see some cutoffs, one at \\\\$20 and another at $300. I want to see what these apps are."
   ]
  },
  {
   "cell_type": "code",
   "execution_count": 35,
   "id": "technological-creek",
   "metadata": {
    "scrolled": true
   },
   "outputs": [
    {
     "data": {
      "text/html": [
       "<div>\n",
       "<style scoped>\n",
       "    .dataframe tbody tr th:only-of-type {\n",
       "        vertical-align: middle;\n",
       "    }\n",
       "\n",
       "    .dataframe tbody tr th {\n",
       "        vertical-align: top;\n",
       "    }\n",
       "\n",
       "    .dataframe thead th {\n",
       "        text-align: right;\n",
       "    }\n",
       "</style>\n",
       "<table border=\"1\" class=\"dataframe\">\n",
       "  <thead>\n",
       "    <tr style=\"text-align: right;\">\n",
       "      <th></th>\n",
       "      <th>App</th>\n",
       "      <th>Category</th>\n",
       "      <th>Rating</th>\n",
       "      <th>Reviews</th>\n",
       "      <th>Size</th>\n",
       "      <th>Installs</th>\n",
       "      <th>Price</th>\n",
       "      <th>Content Rating</th>\n",
       "    </tr>\n",
       "  </thead>\n",
       "  <tbody>\n",
       "    <tr>\n",
       "      <th>2251</th>\n",
       "      <td>Human Anatomy Atlas 2018: Complete 3D Human Body</td>\n",
       "      <td>MEDICAL</td>\n",
       "      <td>4.5</td>\n",
       "      <td>2921</td>\n",
       "      <td>25000.0</td>\n",
       "      <td>100000</td>\n",
       "      <td>24.99</td>\n",
       "      <td>Everyone</td>\n",
       "    </tr>\n",
       "    <tr>\n",
       "      <th>2407</th>\n",
       "      <td>Muscle Premium - Human Anatomy, Kinesiology, B...</td>\n",
       "      <td>MEDICAL</td>\n",
       "      <td>4.2</td>\n",
       "      <td>168</td>\n",
       "      <td>25000.0</td>\n",
       "      <td>10000</td>\n",
       "      <td>24.99</td>\n",
       "      <td>Everyone</td>\n",
       "    </tr>\n",
       "    <tr>\n",
       "      <th>2372</th>\n",
       "      <td>Human Anatomy Atlas 2018: Complete 3D Human Body</td>\n",
       "      <td>MEDICAL</td>\n",
       "      <td>4.5</td>\n",
       "      <td>2921</td>\n",
       "      <td>25000.0</td>\n",
       "      <td>100000</td>\n",
       "      <td>24.99</td>\n",
       "      <td>Everyone</td>\n",
       "    </tr>\n",
       "    <tr>\n",
       "      <th>9574</th>\n",
       "      <td>Human Anatomy Atlas 2018: Complete 3D Human Body</td>\n",
       "      <td>MEDICAL</td>\n",
       "      <td>4.5</td>\n",
       "      <td>2923</td>\n",
       "      <td>25000.0</td>\n",
       "      <td>100000</td>\n",
       "      <td>24.99</td>\n",
       "      <td>Everyone</td>\n",
       "    </tr>\n",
       "    <tr>\n",
       "      <th>2277</th>\n",
       "      <td>Muscle Premium - Human Anatomy, Kinesiology, B...</td>\n",
       "      <td>MEDICAL</td>\n",
       "      <td>4.2</td>\n",
       "      <td>168</td>\n",
       "      <td>25000.0</td>\n",
       "      <td>10000</td>\n",
       "      <td>24.99</td>\n",
       "      <td>Everyone</td>\n",
       "    </tr>\n",
       "    <tr>\n",
       "      <th>2298</th>\n",
       "      <td>PTA Content Master</td>\n",
       "      <td>MEDICAL</td>\n",
       "      <td>4.2</td>\n",
       "      <td>64</td>\n",
       "      <td>41000.0</td>\n",
       "      <td>1000</td>\n",
       "      <td>29.99</td>\n",
       "      <td>Everyone</td>\n",
       "    </tr>\n",
       "    <tr>\n",
       "      <th>5489</th>\n",
       "      <td>AP Art History Flashcards</td>\n",
       "      <td>FAMILY</td>\n",
       "      <td>5.0</td>\n",
       "      <td>1</td>\n",
       "      <td>96000.0</td>\n",
       "      <td>10</td>\n",
       "      <td>29.99</td>\n",
       "      <td>Mature 17+</td>\n",
       "    </tr>\n",
       "    <tr>\n",
       "      <th>2406</th>\n",
       "      <td>PTA Content Master</td>\n",
       "      <td>MEDICAL</td>\n",
       "      <td>4.2</td>\n",
       "      <td>64</td>\n",
       "      <td>41000.0</td>\n",
       "      <td>1000</td>\n",
       "      <td>29.99</td>\n",
       "      <td>Everyone</td>\n",
       "    </tr>\n",
       "    <tr>\n",
       "      <th>3039</th>\n",
       "      <td>Golfshot Plus: Golf GPS</td>\n",
       "      <td>SPORTS</td>\n",
       "      <td>4.1</td>\n",
       "      <td>3387</td>\n",
       "      <td>25000.0</td>\n",
       "      <td>50000</td>\n",
       "      <td>29.99</td>\n",
       "      <td>Everyone</td>\n",
       "    </tr>\n",
       "    <tr>\n",
       "      <th>2266</th>\n",
       "      <td>EMT PASS</td>\n",
       "      <td>MEDICAL</td>\n",
       "      <td>3.4</td>\n",
       "      <td>51</td>\n",
       "      <td>2400.0</td>\n",
       "      <td>1000</td>\n",
       "      <td>29.99</td>\n",
       "      <td>Everyone</td>\n",
       "    </tr>\n",
       "    <tr>\n",
       "      <th>2387</th>\n",
       "      <td>EMT PASS</td>\n",
       "      <td>MEDICAL</td>\n",
       "      <td>3.4</td>\n",
       "      <td>51</td>\n",
       "      <td>2400.0</td>\n",
       "      <td>1000</td>\n",
       "      <td>29.99</td>\n",
       "      <td>Everyone</td>\n",
       "    </tr>\n",
       "    <tr>\n",
       "      <th>2402</th>\n",
       "      <td>A Manual of Acupuncture</td>\n",
       "      <td>MEDICAL</td>\n",
       "      <td>3.5</td>\n",
       "      <td>214</td>\n",
       "      <td>68000.0</td>\n",
       "      <td>1000</td>\n",
       "      <td>33.99</td>\n",
       "      <td>Everyone</td>\n",
       "    </tr>\n",
       "    <tr>\n",
       "      <th>2301</th>\n",
       "      <td>A Manual of Acupuncture</td>\n",
       "      <td>MEDICAL</td>\n",
       "      <td>3.5</td>\n",
       "      <td>214</td>\n",
       "      <td>68000.0</td>\n",
       "      <td>1000</td>\n",
       "      <td>33.99</td>\n",
       "      <td>Everyone</td>\n",
       "    </tr>\n",
       "    <tr>\n",
       "      <th>5360</th>\n",
       "      <td>I am Rich Person</td>\n",
       "      <td>LIFESTYLE</td>\n",
       "      <td>4.2</td>\n",
       "      <td>134</td>\n",
       "      <td>1800.0</td>\n",
       "      <td>1000</td>\n",
       "      <td>37.99</td>\n",
       "      <td>Everyone</td>\n",
       "    </tr>\n",
       "    <tr>\n",
       "      <th>2414</th>\n",
       "      <td>LTC AS Legal</td>\n",
       "      <td>MEDICAL</td>\n",
       "      <td>4.0</td>\n",
       "      <td>6</td>\n",
       "      <td>1300.0</td>\n",
       "      <td>100</td>\n",
       "      <td>39.99</td>\n",
       "      <td>Everyone</td>\n",
       "    </tr>\n",
       "    <tr>\n",
       "      <th>2253</th>\n",
       "      <td>Vargo Anesthesia Mega App</td>\n",
       "      <td>MEDICAL</td>\n",
       "      <td>4.6</td>\n",
       "      <td>92</td>\n",
       "      <td>32000.0</td>\n",
       "      <td>1000</td>\n",
       "      <td>79.99</td>\n",
       "      <td>Everyone</td>\n",
       "    </tr>\n",
       "    <tr>\n",
       "      <th>2365</th>\n",
       "      <td>Vargo Anesthesia Mega App</td>\n",
       "      <td>MEDICAL</td>\n",
       "      <td>4.6</td>\n",
       "      <td>92</td>\n",
       "      <td>32000.0</td>\n",
       "      <td>1000</td>\n",
       "      <td>79.99</td>\n",
       "      <td>Everyone</td>\n",
       "    </tr>\n",
       "    <tr>\n",
       "      <th>5355</th>\n",
       "      <td>I am rich VIP</td>\n",
       "      <td>LIFESTYLE</td>\n",
       "      <td>3.8</td>\n",
       "      <td>411</td>\n",
       "      <td>2600.0</td>\n",
       "      <td>10000</td>\n",
       "      <td>299.99</td>\n",
       "      <td>Everyone</td>\n",
       "    </tr>\n",
       "    <tr>\n",
       "      <th>5357</th>\n",
       "      <td>I am extremely Rich</td>\n",
       "      <td>LIFESTYLE</td>\n",
       "      <td>2.9</td>\n",
       "      <td>41</td>\n",
       "      <td>2900.0</td>\n",
       "      <td>1000</td>\n",
       "      <td>379.99</td>\n",
       "      <td>Everyone</td>\n",
       "    </tr>\n",
       "    <tr>\n",
       "      <th>5366</th>\n",
       "      <td>I Am Rich</td>\n",
       "      <td>FAMILY</td>\n",
       "      <td>3.6</td>\n",
       "      <td>217</td>\n",
       "      <td>4900.0</td>\n",
       "      <td>10000</td>\n",
       "      <td>389.99</td>\n",
       "      <td>Everyone</td>\n",
       "    </tr>\n",
       "    <tr>\n",
       "      <th>5362</th>\n",
       "      <td>I Am Rich Pro</td>\n",
       "      <td>FAMILY</td>\n",
       "      <td>4.4</td>\n",
       "      <td>201</td>\n",
       "      <td>2700.0</td>\n",
       "      <td>5000</td>\n",
       "      <td>399.99</td>\n",
       "      <td>Everyone</td>\n",
       "    </tr>\n",
       "    <tr>\n",
       "      <th>5373</th>\n",
       "      <td>I AM RICH PRO PLUS</td>\n",
       "      <td>FINANCE</td>\n",
       "      <td>4.0</td>\n",
       "      <td>36</td>\n",
       "      <td>41000.0</td>\n",
       "      <td>1000</td>\n",
       "      <td>399.99</td>\n",
       "      <td>Everyone</td>\n",
       "    </tr>\n",
       "    <tr>\n",
       "      <th>5369</th>\n",
       "      <td>I am Rich</td>\n",
       "      <td>FINANCE</td>\n",
       "      <td>4.3</td>\n",
       "      <td>180</td>\n",
       "      <td>3800.0</td>\n",
       "      <td>5000</td>\n",
       "      <td>399.99</td>\n",
       "      <td>Everyone</td>\n",
       "    </tr>\n",
       "    <tr>\n",
       "      <th>5364</th>\n",
       "      <td>I am rich (Most expensive app)</td>\n",
       "      <td>FINANCE</td>\n",
       "      <td>4.1</td>\n",
       "      <td>129</td>\n",
       "      <td>2700.0</td>\n",
       "      <td>1000</td>\n",
       "      <td>399.99</td>\n",
       "      <td>Teen</td>\n",
       "    </tr>\n",
       "    <tr>\n",
       "      <th>5351</th>\n",
       "      <td>I am rich</td>\n",
       "      <td>LIFESTYLE</td>\n",
       "      <td>3.8</td>\n",
       "      <td>3547</td>\n",
       "      <td>1800.0</td>\n",
       "      <td>100000</td>\n",
       "      <td>399.99</td>\n",
       "      <td>Everyone</td>\n",
       "    </tr>\n",
       "    <tr>\n",
       "      <th>5358</th>\n",
       "      <td>I am Rich!</td>\n",
       "      <td>FINANCE</td>\n",
       "      <td>3.8</td>\n",
       "      <td>93</td>\n",
       "      <td>22000.0</td>\n",
       "      <td>1000</td>\n",
       "      <td>399.99</td>\n",
       "      <td>Everyone</td>\n",
       "    </tr>\n",
       "    <tr>\n",
       "      <th>5356</th>\n",
       "      <td>I Am Rich Premium</td>\n",
       "      <td>FINANCE</td>\n",
       "      <td>4.1</td>\n",
       "      <td>1867</td>\n",
       "      <td>4700.0</td>\n",
       "      <td>50000</td>\n",
       "      <td>399.99</td>\n",
       "      <td>Everyone</td>\n",
       "    </tr>\n",
       "    <tr>\n",
       "      <th>5354</th>\n",
       "      <td>I am Rich Plus</td>\n",
       "      <td>FAMILY</td>\n",
       "      <td>4.0</td>\n",
       "      <td>856</td>\n",
       "      <td>8700.0</td>\n",
       "      <td>10000</td>\n",
       "      <td>399.99</td>\n",
       "      <td>Everyone</td>\n",
       "    </tr>\n",
       "    <tr>\n",
       "      <th>4197</th>\n",
       "      <td>most expensive app (H)</td>\n",
       "      <td>FAMILY</td>\n",
       "      <td>4.3</td>\n",
       "      <td>6</td>\n",
       "      <td>1500.0</td>\n",
       "      <td>100</td>\n",
       "      <td>399.99</td>\n",
       "      <td>Everyone</td>\n",
       "    </tr>\n",
       "    <tr>\n",
       "      <th>5359</th>\n",
       "      <td>I am rich(premium)</td>\n",
       "      <td>FINANCE</td>\n",
       "      <td>3.5</td>\n",
       "      <td>472</td>\n",
       "      <td>965.0</td>\n",
       "      <td>5000</td>\n",
       "      <td>399.99</td>\n",
       "      <td>Everyone</td>\n",
       "    </tr>\n",
       "    <tr>\n",
       "      <th>4362</th>\n",
       "      <td>💎 I'm rich</td>\n",
       "      <td>LIFESTYLE</td>\n",
       "      <td>3.8</td>\n",
       "      <td>718</td>\n",
       "      <td>26000.0</td>\n",
       "      <td>10000</td>\n",
       "      <td>399.99</td>\n",
       "      <td>Everyone</td>\n",
       "    </tr>\n",
       "    <tr>\n",
       "      <th>4367</th>\n",
       "      <td>I'm Rich - Trump Edition</td>\n",
       "      <td>LIFESTYLE</td>\n",
       "      <td>3.6</td>\n",
       "      <td>275</td>\n",
       "      <td>7300.0</td>\n",
       "      <td>10000</td>\n",
       "      <td>400.00</td>\n",
       "      <td>Everyone</td>\n",
       "    </tr>\n",
       "  </tbody>\n",
       "</table>\n",
       "</div>"
      ],
      "text/plain": [
       "                                                    App   Category  Rating  \\\n",
       "2251   Human Anatomy Atlas 2018: Complete 3D Human Body    MEDICAL     4.5   \n",
       "2407  Muscle Premium - Human Anatomy, Kinesiology, B...    MEDICAL     4.2   \n",
       "2372   Human Anatomy Atlas 2018: Complete 3D Human Body    MEDICAL     4.5   \n",
       "9574   Human Anatomy Atlas 2018: Complete 3D Human Body    MEDICAL     4.5   \n",
       "2277  Muscle Premium - Human Anatomy, Kinesiology, B...    MEDICAL     4.2   \n",
       "2298                                 PTA Content Master    MEDICAL     4.2   \n",
       "5489                          AP Art History Flashcards     FAMILY     5.0   \n",
       "2406                                 PTA Content Master    MEDICAL     4.2   \n",
       "3039                            Golfshot Plus: Golf GPS     SPORTS     4.1   \n",
       "2266                                           EMT PASS    MEDICAL     3.4   \n",
       "2387                                           EMT PASS    MEDICAL     3.4   \n",
       "2402                            A Manual of Acupuncture    MEDICAL     3.5   \n",
       "2301                            A Manual of Acupuncture    MEDICAL     3.5   \n",
       "5360                                   I am Rich Person  LIFESTYLE     4.2   \n",
       "2414                                       LTC AS Legal    MEDICAL     4.0   \n",
       "2253                          Vargo Anesthesia Mega App    MEDICAL     4.6   \n",
       "2365                          Vargo Anesthesia Mega App    MEDICAL     4.6   \n",
       "5355                                      I am rich VIP  LIFESTYLE     3.8   \n",
       "5357                                I am extremely Rich  LIFESTYLE     2.9   \n",
       "5366                                          I Am Rich     FAMILY     3.6   \n",
       "5362                                      I Am Rich Pro     FAMILY     4.4   \n",
       "5373                                 I AM RICH PRO PLUS    FINANCE     4.0   \n",
       "5369                                          I am Rich    FINANCE     4.3   \n",
       "5364                     I am rich (Most expensive app)    FINANCE     4.1   \n",
       "5351                                          I am rich  LIFESTYLE     3.8   \n",
       "5358                                         I am Rich!    FINANCE     3.8   \n",
       "5356                                  I Am Rich Premium    FINANCE     4.1   \n",
       "5354                                     I am Rich Plus     FAMILY     4.0   \n",
       "4197                             most expensive app (H)     FAMILY     4.3   \n",
       "5359                                 I am rich(premium)    FINANCE     3.5   \n",
       "4362                                         💎 I'm rich  LIFESTYLE     3.8   \n",
       "4367                           I'm Rich - Trump Edition  LIFESTYLE     3.6   \n",
       "\n",
       "      Reviews     Size  Installs   Price Content Rating  \n",
       "2251     2921  25000.0    100000   24.99       Everyone  \n",
       "2407      168  25000.0     10000   24.99       Everyone  \n",
       "2372     2921  25000.0    100000   24.99       Everyone  \n",
       "9574     2923  25000.0    100000   24.99       Everyone  \n",
       "2277      168  25000.0     10000   24.99       Everyone  \n",
       "2298       64  41000.0      1000   29.99       Everyone  \n",
       "5489        1  96000.0        10   29.99     Mature 17+  \n",
       "2406       64  41000.0      1000   29.99       Everyone  \n",
       "3039     3387  25000.0     50000   29.99       Everyone  \n",
       "2266       51   2400.0      1000   29.99       Everyone  \n",
       "2387       51   2400.0      1000   29.99       Everyone  \n",
       "2402      214  68000.0      1000   33.99       Everyone  \n",
       "2301      214  68000.0      1000   33.99       Everyone  \n",
       "5360      134   1800.0      1000   37.99       Everyone  \n",
       "2414        6   1300.0       100   39.99       Everyone  \n",
       "2253       92  32000.0      1000   79.99       Everyone  \n",
       "2365       92  32000.0      1000   79.99       Everyone  \n",
       "5355      411   2600.0     10000  299.99       Everyone  \n",
       "5357       41   2900.0      1000  379.99       Everyone  \n",
       "5366      217   4900.0     10000  389.99       Everyone  \n",
       "5362      201   2700.0      5000  399.99       Everyone  \n",
       "5373       36  41000.0      1000  399.99       Everyone  \n",
       "5369      180   3800.0      5000  399.99       Everyone  \n",
       "5364      129   2700.0      1000  399.99           Teen  \n",
       "5351     3547   1800.0    100000  399.99       Everyone  \n",
       "5358       93  22000.0      1000  399.99       Everyone  \n",
       "5356     1867   4700.0     50000  399.99       Everyone  \n",
       "5354      856   8700.0     10000  399.99       Everyone  \n",
       "4197        6   1500.0       100  399.99       Everyone  \n",
       "5359      472    965.0      5000  399.99       Everyone  \n",
       "4362      718  26000.0     10000  399.99       Everyone  \n",
       "4367      275   7300.0     10000  400.00       Everyone  "
      ]
     },
     "execution_count": 35,
     "metadata": {},
     "output_type": "execute_result"
    }
   ],
   "source": [
    "apps_no_nulls_tc_and_formatted.loc[apps_no_nulls_tc_and_formatted.Price>20].sort_values('Price')"
   ]
  },
  {
   "cell_type": "markdown",
   "id": "institutional-universe",
   "metadata": {},
   "source": [
    "It looks like the apps that cost \\\\$300 or more are outliers. They are apps people buy to brag about their wealth and seem to serve on other purpose. I will be dropping these apps as they will skew my analysis. The other apps are learning apps, mostly medical, so I'll leave them in."
   ]
  },
  {
   "cell_type": "code",
   "execution_count": 36,
   "id": "nutritional-swedish",
   "metadata": {},
   "outputs": [
    {
     "data": {
      "text/plain": [
       "(7729, 8)"
      ]
     },
     "execution_count": 36,
     "metadata": {},
     "output_type": "execute_result"
    }
   ],
   "source": [
    "apps_no_nulls_tc_and_formatted.shape"
   ]
  },
  {
   "cell_type": "code",
   "execution_count": 37,
   "id": "gentle-system",
   "metadata": {},
   "outputs": [],
   "source": [
    "apps_no_nulls_tc_and_formatted = apps_no_nulls_tc_and_formatted.loc[apps_no_nulls_tc_and_formatted.Price<200]"
   ]
  },
  {
   "cell_type": "code",
   "execution_count": 38,
   "id": "unlikely-apparel",
   "metadata": {},
   "outputs": [
    {
     "data": {
      "text/plain": [
       "(7714, 8)"
      ]
     },
     "execution_count": 38,
     "metadata": {},
     "output_type": "execute_result"
    }
   ],
   "source": [
    "apps_no_nulls_tc_and_formatted.shape"
   ]
  },
  {
   "cell_type": "markdown",
   "id": "verbal-parameter",
   "metadata": {},
   "source": [
    "<b>b.</b> Next I will look at the Reviews column."
   ]
  },
  {
   "cell_type": "code",
   "execution_count": 39,
   "id": "fourth-sheep",
   "metadata": {
    "scrolled": true
   },
   "outputs": [
    {
     "data": {
      "text/plain": [
       "Text(0.5, 1.0, 'Reviews Boxplot')"
      ]
     },
     "execution_count": 39,
     "metadata": {},
     "output_type": "execute_result"
    },
    {
     "data": {
      "image/png": "[encoded data removed]",
      "text/plain": [
       "<Figure size 432x288 with 1 Axes>"
      ]
     },
     "metadata": {
      "needs_background": "light"
     },
     "output_type": "display_data"
    }
   ],
   "source": [
    "ax = sns.boxplot(x=apps_no_nulls_tc_and_formatted.Reviews)\n",
    "plt.axvline(1e7)\n",
    "plt.title('Reviews Boxplot')"
   ]
  },
  {
   "cell_type": "code",
   "execution_count": 40,
   "id": "enhanced-accordance",
   "metadata": {
    "scrolled": true
   },
   "outputs": [
    {
     "data": {
      "text/plain": [
       "Text(0.5, 1.0, 'Reviews<1e7 Boxplot')"
      ]
     },
     "execution_count": 40,
     "metadata": {},
     "output_type": "execute_result"
    },
    {
     "data": {
      "image/png": "[encoded data removed]",
      "text/plain": [
       "<Figure size 432x288 with 1 Axes>"
      ]
     },
     "metadata": {
      "needs_background": "light"
     },
     "output_type": "display_data"
    }
   ],
   "source": [
    "ax =sns.boxplot(x=apps_no_nulls_tc_and_formatted.loc[apps_no_nulls_tc_and_formatted.Reviews<1e7,'Reviews'])\n",
    "plt.axvline(2e6)\n",
    "plt.title('Reviews<1e7 Boxplot')"
   ]
  },
  {
   "cell_type": "code",
   "execution_count": 41,
   "id": "sorted-adolescent",
   "metadata": {},
   "outputs": [
    {
     "data": {
      "text/plain": [
       "Text(0.5, 1.0, 'Reviews<1e7 Boxplot')"
      ]
     },
     "execution_count": 41,
     "metadata": {},
     "output_type": "execute_result"
    },
    {
     "data": {
      "image/png": "[encoded data removed]",
      "text/plain": [
       "<Figure size 432x288 with 1 Axes>"
      ]
     },
     "metadata": {
      "needs_background": "light"
     },
     "output_type": "display_data"
    }
   ],
   "source": [
    "ax =sns.boxplot(x=apps_no_nulls_tc_and_formatted.loc[apps_no_nulls_tc_and_formatted.Reviews<2e6,'Reviews'])\n",
    "plt.title('Reviews<1e7 Boxplot')"
   ]
  },
  {
   "cell_type": "markdown",
   "id": "through-meter",
   "metadata": {},
   "source": [
    "I will be looking at the rows with Reviews greater than or equal to 2e6 because there looks to be a sectioning off there."
   ]
  },
  {
   "cell_type": "code",
   "execution_count": 42,
   "id": "solar-thumbnail",
   "metadata": {
    "scrolled": true
   },
   "outputs": [
    {
     "data": {
      "text/html": [
       "<div>\n",
       "<style scoped>\n",
       "    .dataframe tbody tr th:only-of-type {\n",
       "        vertical-align: middle;\n",
       "    }\n",
       "\n",
       "    .dataframe tbody tr th {\n",
       "        vertical-align: top;\n",
       "    }\n",
       "\n",
       "    .dataframe thead th {\n",
       "        text-align: right;\n",
       "    }\n",
       "</style>\n",
       "<table border=\"1\" class=\"dataframe\">\n",
       "  <thead>\n",
       "    <tr style=\"text-align: right;\">\n",
       "      <th></th>\n",
       "      <th>App</th>\n",
       "      <th>Category</th>\n",
       "      <th>Rating</th>\n",
       "      <th>Reviews</th>\n",
       "      <th>Size</th>\n",
       "      <th>Installs</th>\n",
       "      <th>Price</th>\n",
       "      <th>Content Rating</th>\n",
       "    </tr>\n",
       "  </thead>\n",
       "  <tbody>\n",
       "    <tr>\n",
       "      <th>345</th>\n",
       "      <td>Yahoo Mail – Stay Organized</td>\n",
       "      <td>COMMUNICATION</td>\n",
       "      <td>4.3</td>\n",
       "      <td>4187998</td>\n",
       "      <td>16000.0</td>\n",
       "      <td>100000000</td>\n",
       "      <td>0.0</td>\n",
       "      <td>Everyone</td>\n",
       "    </tr>\n",
       "    <tr>\n",
       "      <th>347</th>\n",
       "      <td>imo free video calls and chat</td>\n",
       "      <td>COMMUNICATION</td>\n",
       "      <td>4.3</td>\n",
       "      <td>4785892</td>\n",
       "      <td>11000.0</td>\n",
       "      <td>500000000</td>\n",
       "      <td>0.0</td>\n",
       "      <td>Everyone</td>\n",
       "    </tr>\n",
       "    <tr>\n",
       "      <th>366</th>\n",
       "      <td>UC Browser Mini -Tiny Fast Private &amp; Secure</td>\n",
       "      <td>COMMUNICATION</td>\n",
       "      <td>4.4</td>\n",
       "      <td>3648120</td>\n",
       "      <td>3300.0</td>\n",
       "      <td>100000000</td>\n",
       "      <td>0.0</td>\n",
       "      <td>Teen</td>\n",
       "    </tr>\n",
       "    <tr>\n",
       "      <th>378</th>\n",
       "      <td>UC Browser - Fast Download Private &amp; Secure</td>\n",
       "      <td>COMMUNICATION</td>\n",
       "      <td>4.5</td>\n",
       "      <td>17712922</td>\n",
       "      <td>40000.0</td>\n",
       "      <td>500000000</td>\n",
       "      <td>0.0</td>\n",
       "      <td>Teen</td>\n",
       "    </tr>\n",
       "    <tr>\n",
       "      <th>383</th>\n",
       "      <td>imo free video calls and chat</td>\n",
       "      <td>COMMUNICATION</td>\n",
       "      <td>4.3</td>\n",
       "      <td>4785988</td>\n",
       "      <td>11000.0</td>\n",
       "      <td>500000000</td>\n",
       "      <td>0.0</td>\n",
       "      <td>Everyone</td>\n",
       "    </tr>\n",
       "    <tr>\n",
       "      <th>...</th>\n",
       "      <td>...</td>\n",
       "      <td>...</td>\n",
       "      <td>...</td>\n",
       "      <td>...</td>\n",
       "      <td>...</td>\n",
       "      <td>...</td>\n",
       "      <td>...</td>\n",
       "      <td>...</td>\n",
       "    </tr>\n",
       "    <tr>\n",
       "      <th>9142</th>\n",
       "      <td>Need for Speed™ No Limits</td>\n",
       "      <td>GAME</td>\n",
       "      <td>4.4</td>\n",
       "      <td>3344300</td>\n",
       "      <td>22000.0</td>\n",
       "      <td>50000000</td>\n",
       "      <td>0.0</td>\n",
       "      <td>Everyone 10+</td>\n",
       "    </tr>\n",
       "    <tr>\n",
       "      <th>9166</th>\n",
       "      <td>Modern Combat 5: eSports FPS</td>\n",
       "      <td>GAME</td>\n",
       "      <td>4.3</td>\n",
       "      <td>2903386</td>\n",
       "      <td>58000.0</td>\n",
       "      <td>100000000</td>\n",
       "      <td>0.0</td>\n",
       "      <td>Mature 17+</td>\n",
       "    </tr>\n",
       "    <tr>\n",
       "      <th>10186</th>\n",
       "      <td>Farm Heroes Saga</td>\n",
       "      <td>FAMILY</td>\n",
       "      <td>4.4</td>\n",
       "      <td>7615646</td>\n",
       "      <td>71000.0</td>\n",
       "      <td>100000000</td>\n",
       "      <td>0.0</td>\n",
       "      <td>Everyone</td>\n",
       "    </tr>\n",
       "    <tr>\n",
       "      <th>10190</th>\n",
       "      <td>Fallout Shelter</td>\n",
       "      <td>FAMILY</td>\n",
       "      <td>4.6</td>\n",
       "      <td>2721923</td>\n",
       "      <td>25000.0</td>\n",
       "      <td>10000000</td>\n",
       "      <td>0.0</td>\n",
       "      <td>Teen</td>\n",
       "    </tr>\n",
       "    <tr>\n",
       "      <th>10327</th>\n",
       "      <td>Garena Free Fire</td>\n",
       "      <td>GAME</td>\n",
       "      <td>4.5</td>\n",
       "      <td>5534114</td>\n",
       "      <td>53000.0</td>\n",
       "      <td>100000000</td>\n",
       "      <td>0.0</td>\n",
       "      <td>Teen</td>\n",
       "    </tr>\n",
       "  </tbody>\n",
       "</table>\n",
       "<p>219 rows × 8 columns</p>\n",
       "</div>"
      ],
      "text/plain": [
       "                                               App       Category  Rating  \\\n",
       "345                    Yahoo Mail – Stay Organized  COMMUNICATION     4.3   \n",
       "347                  imo free video calls and chat  COMMUNICATION     4.3   \n",
       "366    UC Browser Mini -Tiny Fast Private & Secure  COMMUNICATION     4.4   \n",
       "378    UC Browser - Fast Download Private & Secure  COMMUNICATION     4.5   \n",
       "383                  imo free video calls and chat  COMMUNICATION     4.3   \n",
       "...                                            ...            ...     ...   \n",
       "9142                     Need for Speed™ No Limits           GAME     4.4   \n",
       "9166                  Modern Combat 5: eSports FPS           GAME     4.3   \n",
       "10186                             Farm Heroes Saga         FAMILY     4.4   \n",
       "10190                              Fallout Shelter         FAMILY     4.6   \n",
       "10327                             Garena Free Fire           GAME     4.5   \n",
       "\n",
       "        Reviews     Size   Installs  Price Content Rating  \n",
       "345     4187998  16000.0  100000000    0.0       Everyone  \n",
       "347     4785892  11000.0  500000000    0.0       Everyone  \n",
       "366     3648120   3300.0  100000000    0.0           Teen  \n",
       "378    17712922  40000.0  500000000    0.0           Teen  \n",
       "383     4785988  11000.0  500000000    0.0       Everyone  \n",
       "...         ...      ...        ...    ...            ...  \n",
       "9142    3344300  22000.0   50000000    0.0   Everyone 10+  \n",
       "9166    2903386  58000.0  100000000    0.0     Mature 17+  \n",
       "10186   7615646  71000.0  100000000    0.0       Everyone  \n",
       "10190   2721923  25000.0   10000000    0.0           Teen  \n",
       "10327   5534114  53000.0  100000000    0.0           Teen  \n",
       "\n",
       "[219 rows x 8 columns]"
      ]
     },
     "execution_count": 42,
     "metadata": {},
     "output_type": "execute_result"
    }
   ],
   "source": [
    "apps_no_nulls_tc_and_formatted.loc[apps_no_nulls_tc_and_formatted.Reviews>2e6]"
   ]
  },
  {
   "cell_type": "code",
   "execution_count": 43,
   "id": "imposed-keeping",
   "metadata": {},
   "outputs": [
    {
     "data": {
      "text/plain": [
       "ROBLOX                              9\n",
       "8 Ball Pool                         7\n",
       "Candy Crush Saga                    7\n",
       "Subway Surfers                      6\n",
       "Helix Jump                          6\n",
       "                                   ..\n",
       "CA Auth ID                          1\n",
       "Tsuro - The Game of the Path        1\n",
       "Zombie Defense                      1\n",
       "Teen Titans GO Figure!              1\n",
       "Sworkit Kids - Fitness Meets Fun    1\n",
       "Name: App, Length: 7014, dtype: int64"
      ]
     },
     "execution_count": 43,
     "metadata": {},
     "output_type": "execute_result"
    }
   ],
   "source": [
    "apps_no_nulls_tc_and_formatted.App.value_counts()"
   ]
  },
  {
   "cell_type": "markdown",
   "id": "decimal-robinson",
   "metadata": {},
   "source": [
    "As I've gone thru the apps with very large numbers of reviews, I have discovered there are duplicates for some apps. From my inspection, the duplicates are very similar. Therefore I will be dropping the duplicates and keeping the first instance. "
   ]
  },
  {
   "cell_type": "code",
   "execution_count": 44,
   "id": "ceramic-pixel",
   "metadata": {},
   "outputs": [],
   "source": [
    "apps_no_nulls_tc_and_formatted = apps_no_nulls_tc_and_formatted.drop_duplicates(subset='App', keep='last')"
   ]
  },
  {
   "cell_type": "code",
   "execution_count": 45,
   "id": "architectural-blend",
   "metadata": {
    "scrolled": true
   },
   "outputs": [
    {
     "data": {
      "text/plain": [
       "Text(0.5, 1.0, 'Reviews Boxplot')"
      ]
     },
     "execution_count": 45,
     "metadata": {},
     "output_type": "execute_result"
    },
    {
     "data": {
      "image/png": "[encoded data removed]",
      "text/plain": [
       "<Figure size 432x288 with 1 Axes>"
      ]
     },
     "metadata": {
      "needs_background": "light"
     },
     "output_type": "display_data"
    }
   ],
   "source": [
    "sns.boxplot(x=apps_no_nulls_tc_and_formatted.Reviews)\n",
    "plt.title('Reviews Boxplot')"
   ]
  },
  {
   "cell_type": "code",
   "execution_count": 46,
   "id": "minor-industry",
   "metadata": {
    "scrolled": true
   },
   "outputs": [
    {
     "data": {
      "text/html": [
       "<div>\n",
       "<style scoped>\n",
       "    .dataframe tbody tr th:only-of-type {\n",
       "        vertical-align: middle;\n",
       "    }\n",
       "\n",
       "    .dataframe tbody tr th {\n",
       "        vertical-align: top;\n",
       "    }\n",
       "\n",
       "    .dataframe thead th {\n",
       "        text-align: right;\n",
       "    }\n",
       "</style>\n",
       "<table border=\"1\" class=\"dataframe\">\n",
       "  <thead>\n",
       "    <tr style=\"text-align: right;\">\n",
       "      <th></th>\n",
       "      <th>App</th>\n",
       "      <th>Category</th>\n",
       "      <th>Rating</th>\n",
       "      <th>Reviews</th>\n",
       "      <th>Size</th>\n",
       "      <th>Installs</th>\n",
       "      <th>Price</th>\n",
       "      <th>Content Rating</th>\n",
       "    </tr>\n",
       "  </thead>\n",
       "  <tbody>\n",
       "    <tr>\n",
       "      <th>395</th>\n",
       "      <td>GO SMS Pro - Messenger, Free Themes, Emoji</td>\n",
       "      <td>COMMUNICATION</td>\n",
       "      <td>4.4</td>\n",
       "      <td>2876500</td>\n",
       "      <td>24000.0</td>\n",
       "      <td>100000000</td>\n",
       "      <td>0.0</td>\n",
       "      <td>Everyone</td>\n",
       "    </tr>\n",
       "    <tr>\n",
       "      <th>1773</th>\n",
       "      <td>Extreme Car Driving Simulator</td>\n",
       "      <td>GAME</td>\n",
       "      <td>4.3</td>\n",
       "      <td>2251012</td>\n",
       "      <td>52000.0</td>\n",
       "      <td>100000000</td>\n",
       "      <td>0.0</td>\n",
       "      <td>Everyone</td>\n",
       "    </tr>\n",
       "    <tr>\n",
       "      <th>1781</th>\n",
       "      <td>Trivia Crack</td>\n",
       "      <td>GAME</td>\n",
       "      <td>4.5</td>\n",
       "      <td>6427773</td>\n",
       "      <td>95000.0</td>\n",
       "      <td>100000000</td>\n",
       "      <td>0.0</td>\n",
       "      <td>Everyone</td>\n",
       "    </tr>\n",
       "    <tr>\n",
       "      <th>1861</th>\n",
       "      <td>Summoners War</td>\n",
       "      <td>GAME</td>\n",
       "      <td>4.3</td>\n",
       "      <td>2045554</td>\n",
       "      <td>28000.0</td>\n",
       "      <td>50000000</td>\n",
       "      <td>0.0</td>\n",
       "      <td>Teen</td>\n",
       "    </tr>\n",
       "    <tr>\n",
       "      <th>1866</th>\n",
       "      <td>Lords Mobile: Battle of the Empires - Strategy...</td>\n",
       "      <td>GAME</td>\n",
       "      <td>4.4</td>\n",
       "      <td>3057481</td>\n",
       "      <td>14000.0</td>\n",
       "      <td>50000000</td>\n",
       "      <td>0.0</td>\n",
       "      <td>Teen</td>\n",
       "    </tr>\n",
       "    <tr>\n",
       "      <th>...</th>\n",
       "      <td>...</td>\n",
       "      <td>...</td>\n",
       "      <td>...</td>\n",
       "      <td>...</td>\n",
       "      <td>...</td>\n",
       "      <td>...</td>\n",
       "      <td>...</td>\n",
       "      <td>...</td>\n",
       "    </tr>\n",
       "    <tr>\n",
       "      <th>9142</th>\n",
       "      <td>Need for Speed™ No Limits</td>\n",
       "      <td>GAME</td>\n",
       "      <td>4.4</td>\n",
       "      <td>3344300</td>\n",
       "      <td>22000.0</td>\n",
       "      <td>50000000</td>\n",
       "      <td>0.0</td>\n",
       "      <td>Everyone 10+</td>\n",
       "    </tr>\n",
       "    <tr>\n",
       "      <th>9166</th>\n",
       "      <td>Modern Combat 5: eSports FPS</td>\n",
       "      <td>GAME</td>\n",
       "      <td>4.3</td>\n",
       "      <td>2903386</td>\n",
       "      <td>58000.0</td>\n",
       "      <td>100000000</td>\n",
       "      <td>0.0</td>\n",
       "      <td>Mature 17+</td>\n",
       "    </tr>\n",
       "    <tr>\n",
       "      <th>10186</th>\n",
       "      <td>Farm Heroes Saga</td>\n",
       "      <td>FAMILY</td>\n",
       "      <td>4.4</td>\n",
       "      <td>7615646</td>\n",
       "      <td>71000.0</td>\n",
       "      <td>100000000</td>\n",
       "      <td>0.0</td>\n",
       "      <td>Everyone</td>\n",
       "    </tr>\n",
       "    <tr>\n",
       "      <th>10190</th>\n",
       "      <td>Fallout Shelter</td>\n",
       "      <td>FAMILY</td>\n",
       "      <td>4.6</td>\n",
       "      <td>2721923</td>\n",
       "      <td>25000.0</td>\n",
       "      <td>10000000</td>\n",
       "      <td>0.0</td>\n",
       "      <td>Teen</td>\n",
       "    </tr>\n",
       "    <tr>\n",
       "      <th>10327</th>\n",
       "      <td>Garena Free Fire</td>\n",
       "      <td>GAME</td>\n",
       "      <td>4.5</td>\n",
       "      <td>5534114</td>\n",
       "      <td>53000.0</td>\n",
       "      <td>100000000</td>\n",
       "      <td>0.0</td>\n",
       "      <td>Teen</td>\n",
       "    </tr>\n",
       "  </tbody>\n",
       "</table>\n",
       "<p>99 rows × 8 columns</p>\n",
       "</div>"
      ],
      "text/plain": [
       "                                                     App       Category  \\\n",
       "395           GO SMS Pro - Messenger, Free Themes, Emoji  COMMUNICATION   \n",
       "1773                       Extreme Car Driving Simulator           GAME   \n",
       "1781                                        Trivia Crack           GAME   \n",
       "1861                                       Summoners War           GAME   \n",
       "1866   Lords Mobile: Battle of the Empires - Strategy...           GAME   \n",
       "...                                                  ...            ...   \n",
       "9142                           Need for Speed™ No Limits           GAME   \n",
       "9166                        Modern Combat 5: eSports FPS           GAME   \n",
       "10186                                   Farm Heroes Saga         FAMILY   \n",
       "10190                                    Fallout Shelter         FAMILY   \n",
       "10327                                   Garena Free Fire           GAME   \n",
       "\n",
       "       Rating  Reviews     Size   Installs  Price Content Rating  \n",
       "395       4.4  2876500  24000.0  100000000    0.0       Everyone  \n",
       "1773      4.3  2251012  52000.0  100000000    0.0       Everyone  \n",
       "1781      4.5  6427773  95000.0  100000000    0.0       Everyone  \n",
       "1861      4.3  2045554  28000.0   50000000    0.0           Teen  \n",
       "1866      4.4  3057481  14000.0   50000000    0.0           Teen  \n",
       "...       ...      ...      ...        ...    ...            ...  \n",
       "9142      4.4  3344300  22000.0   50000000    0.0   Everyone 10+  \n",
       "9166      4.3  2903386  58000.0  100000000    0.0     Mature 17+  \n",
       "10186     4.4  7615646  71000.0  100000000    0.0       Everyone  \n",
       "10190     4.6  2721923  25000.0   10000000    0.0           Teen  \n",
       "10327     4.5  5534114  53000.0  100000000    0.0           Teen  \n",
       "\n",
       "[99 rows x 8 columns]"
      ]
     },
     "execution_count": 46,
     "metadata": {},
     "output_type": "execute_result"
    }
   ],
   "source": [
    "apps_no_nulls_tc_and_formatted.loc[apps_no_nulls_tc_and_formatted.Reviews>2e6]"
   ]
  },
  {
   "cell_type": "markdown",
   "id": "subsequent-attitude",
   "metadata": {},
   "source": [
    "With the duplicates dropped, there are fewer apps with reviews numbering greater than 2e6. I would call these apps abnormally popular, and with there very large number of reviews, they will skew my analysis. I will drop these rows."
   ]
  },
  {
   "cell_type": "code",
   "execution_count": 47,
   "id": "caring-component",
   "metadata": {},
   "outputs": [],
   "source": [
    "apps_no_nulls_tc_and_formatted = apps_no_nulls_tc_and_formatted.loc[apps_no_nulls_tc_and_formatted.Reviews<=2e6]"
   ]
  },
  {
   "cell_type": "markdown",
   "id": "offensive-helicopter",
   "metadata": {},
   "source": [
    "<b>c.</b> Next up I want to check if the install amounts have outliers. Getting rid of the Reviews outliers may have done this already, but I would like to double check."
   ]
  },
  {
   "cell_type": "code",
   "execution_count": 48,
   "id": "sought-vision",
   "metadata": {
    "scrolled": true
   },
   "outputs": [
    {
     "data": {
      "text/plain": [
       "1                3\n",
       "5                9\n",
       "10              67\n",
       "50              56\n",
       "100            295\n",
       "500            195\n",
       "1000           670\n",
       "5000           410\n",
       "10000          943\n",
       "50000          426\n",
       "100000         990\n",
       "500000         460\n",
       "1000000       1177\n",
       "5000000        450\n",
       "10000000       640\n",
       "50000000        88\n",
       "100000000       33\n",
       "500000000        2\n",
       "1000000000       1\n",
       "Name: Installs, dtype: int64"
      ]
     },
     "execution_count": 48,
     "metadata": {},
     "output_type": "execute_result"
    }
   ],
   "source": [
    "apps_no_nulls_tc_and_formatted.Installs.value_counts().sort_index()"
   ]
  },
  {
   "cell_type": "code",
   "execution_count": 49,
   "id": "refined-bulletin",
   "metadata": {},
   "outputs": [
    {
     "data": {
      "text/plain": [
       "count    6.915000e+03\n",
       "mean     2.876295e+06\n",
       "std      1.730022e+07\n",
       "min      1.000000e+00\n",
       "25%      1.000000e+04\n",
       "50%      1.000000e+05\n",
       "75%      1.000000e+06\n",
       "max      1.000000e+09\n",
       "Name: Installs, dtype: float64"
      ]
     },
     "execution_count": 49,
     "metadata": {},
     "output_type": "execute_result"
    }
   ],
   "source": [
    "apps_no_nulls_tc_and_formatted.Installs.describe()"
   ]
  },
  {
   "cell_type": "code",
   "execution_count": 50,
   "id": "hispanic-vision",
   "metadata": {},
   "outputs": [
    {
     "data": {
      "text/plain": [
       "Text(0.5, 1.0, 'Installs Logscale Histogram')"
      ]
     },
     "execution_count": 50,
     "metadata": {},
     "output_type": "execute_result"
    },
    {
     "data": {
      "image/png": "[encoded data removed]",
      "text/plain": [
       "<Figure size 360x360 with 1 Axes>"
      ]
     },
     "metadata": {
      "needs_background": "light"
     },
     "output_type": "display_data"
    }
   ],
   "source": [
    "sns.displot(apps_no_nulls_tc_and_formatted.Installs,log_scale=True)\n",
    "plt.title('Installs Logscale Histogram')"
   ]
  },
  {
   "cell_type": "code",
   "execution_count": 51,
   "id": "undefined-chance",
   "metadata": {},
   "outputs": [
    {
     "data": {
      "text/plain": [
       "<AxesSubplot:title={'center':'Installs Logscale Boxplot'}, xlabel='Installs'>"
      ]
     },
     "execution_count": 51,
     "metadata": {},
     "output_type": "execute_result"
    },
    {
     "data": {
      "image/png": "[encoded data removed]",
      "text/plain": [
       "<Figure size 432x288 with 1 Axes>"
      ]
     },
     "metadata": {
      "needs_background": "light"
     },
     "output_type": "display_data"
    }
   ],
   "source": [
    "fig,ax = plt.subplots()\n",
    "ax.set_xscale('log')\n",
    "plt.title('Installs Logscale Boxplot')\n",
    "sns.boxplot(x = apps_no_nulls_tc_and_formatted.Installs)"
   ]
  },
  {
   "cell_type": "markdown",
   "id": "secret-advertising",
   "metadata": {},
   "source": [
    "I want to get rid of some of the outliers so that my analysis isn't skewed by them. The possible outliers start from 5e6 and go up. Getting rid of all values above this would remove ~18% of the data that is left. Therefore I will make the cutoff at 1e7 which will only drop ~2% of the data."
   ]
  },
  {
   "cell_type": "code",
   "execution_count": 52,
   "id": "virtual-association",
   "metadata": {},
   "outputs": [],
   "source": [
    "apps_no_nulls_tc_and_formatted = apps_no_nulls_tc_and_formatted[apps_no_nulls_tc_and_formatted.Installs<=1e7]"
   ]
  },
  {
   "cell_type": "code",
   "execution_count": 53,
   "id": "loose-crossing",
   "metadata": {},
   "outputs": [
    {
     "data": {
      "text/plain": [
       "1              3\n",
       "5              9\n",
       "10            67\n",
       "50            56\n",
       "100          295\n",
       "500          195\n",
       "1000         670\n",
       "5000         410\n",
       "10000        943\n",
       "50000        426\n",
       "100000       990\n",
       "500000       460\n",
       "1000000     1177\n",
       "5000000      450\n",
       "10000000     640\n",
       "Name: Installs, dtype: int64"
      ]
     },
     "execution_count": 53,
     "metadata": {},
     "output_type": "execute_result"
    }
   ],
   "source": [
    "apps_no_nulls_tc_and_formatted.Installs.value_counts().sort_index()"
   ]
  },
  {
   "cell_type": "markdown",
   "id": "extensive-victim",
   "metadata": {},
   "source": [
    "<b>d.</b> Next I want to look at the distribution of Rating to see if there are any outliers."
   ]
  },
  {
   "cell_type": "code",
   "execution_count": 54,
   "id": "similar-adobe",
   "metadata": {},
   "outputs": [
    {
     "data": {
      "text/plain": [
       "Text(0.5, 1.0, 'Rating Histogram')"
      ]
     },
     "execution_count": 54,
     "metadata": {},
     "output_type": "execute_result"
    },
    {
     "data": {
      "image/png": "[encoded data removed]",
      "text/plain": [
       "<Figure size 432x288 with 1 Axes>"
      ]
     },
     "metadata": {
      "needs_background": "light"
     },
     "output_type": "display_data"
    }
   ],
   "source": [
    "sns.histplot(apps_no_nulls_tc_and_formatted.Rating)\n",
    "plt.title('Rating Histogram')"
   ]
  },
  {
   "cell_type": "code",
   "execution_count": 55,
   "id": "collectible-organic",
   "metadata": {
    "scrolled": true
   },
   "outputs": [
    {
     "data": {
      "text/plain": [
       "1.0     16\n",
       "1.2      1\n",
       "1.4      3\n",
       "1.5      3\n",
       "1.6      4\n",
       "1.7      8\n",
       "1.8      8\n",
       "1.9     10\n",
       "2.0     11\n",
       "2.1      8\n",
       "2.2     14\n",
       "2.3     20\n",
       "2.4     19\n",
       "2.5     18\n",
       "2.6     23\n",
       "2.7     21\n",
       "2.8     40\n",
       "2.9     42\n",
       "3.0     72\n",
       "3.1     61\n",
       "3.2     59\n",
       "3.3     96\n",
       "3.4    113\n",
       "3.5    146\n",
       "3.6    150\n",
       "3.7    187\n",
       "3.8    252\n",
       "3.9    310\n",
       "4.0    441\n",
       "4.1    528\n",
       "4.2    639\n",
       "4.3    672\n",
       "4.4    674\n",
       "4.5    645\n",
       "4.6    539\n",
       "4.7    384\n",
       "4.8    203\n",
       "4.9     85\n",
       "5.0    266\n",
       "Name: Rating, dtype: int64"
      ]
     },
     "execution_count": 55,
     "metadata": {},
     "output_type": "execute_result"
    }
   ],
   "source": [
    "apps_no_nulls_tc_and_formatted.Rating.value_counts().sort_index()"
   ]
  },
  {
   "cell_type": "code",
   "execution_count": 56,
   "id": "fitted-ecuador",
   "metadata": {
    "scrolled": true
   },
   "outputs": [
    {
     "data": {
      "text/html": [
       "<div>\n",
       "<style scoped>\n",
       "    .dataframe tbody tr th:only-of-type {\n",
       "        vertical-align: middle;\n",
       "    }\n",
       "\n",
       "    .dataframe tbody tr th {\n",
       "        vertical-align: top;\n",
       "    }\n",
       "\n",
       "    .dataframe thead th {\n",
       "        text-align: right;\n",
       "    }\n",
       "</style>\n",
       "<table border=\"1\" class=\"dataframe\">\n",
       "  <thead>\n",
       "    <tr style=\"text-align: right;\">\n",
       "      <th></th>\n",
       "      <th>App</th>\n",
       "      <th>Category</th>\n",
       "      <th>Rating</th>\n",
       "      <th>Reviews</th>\n",
       "      <th>Size</th>\n",
       "      <th>Installs</th>\n",
       "      <th>Price</th>\n",
       "      <th>Content Rating</th>\n",
       "    </tr>\n",
       "  </thead>\n",
       "  <tbody>\n",
       "    <tr>\n",
       "      <th>625</th>\n",
       "      <td>House party - live chat</td>\n",
       "      <td>DATING</td>\n",
       "      <td>1.0</td>\n",
       "      <td>1</td>\n",
       "      <td>9200.0</td>\n",
       "      <td>10</td>\n",
       "      <td>0.00</td>\n",
       "      <td>Mature 17+</td>\n",
       "    </tr>\n",
       "    <tr>\n",
       "      <th>10400</th>\n",
       "      <td>Familial Hypercholesterolaemia Handbook</td>\n",
       "      <td>MEDICAL</td>\n",
       "      <td>1.0</td>\n",
       "      <td>2</td>\n",
       "      <td>33000.0</td>\n",
       "      <td>100</td>\n",
       "      <td>0.00</td>\n",
       "      <td>Everyone</td>\n",
       "    </tr>\n",
       "    <tr>\n",
       "      <th>10324</th>\n",
       "      <td>FE Mechanical Engineering Prep</td>\n",
       "      <td>FAMILY</td>\n",
       "      <td>1.0</td>\n",
       "      <td>2</td>\n",
       "      <td>21000.0</td>\n",
       "      <td>1000</td>\n",
       "      <td>0.00</td>\n",
       "      <td>Everyone</td>\n",
       "    </tr>\n",
       "    <tr>\n",
       "      <th>8875</th>\n",
       "      <td>DT future1 cam</td>\n",
       "      <td>TOOLS</td>\n",
       "      <td>1.0</td>\n",
       "      <td>1</td>\n",
       "      <td>24000.0</td>\n",
       "      <td>50</td>\n",
       "      <td>0.00</td>\n",
       "      <td>Everyone</td>\n",
       "    </tr>\n",
       "    <tr>\n",
       "      <th>8820</th>\n",
       "      <td>DS Creator 2.0</td>\n",
       "      <td>TOOLS</td>\n",
       "      <td>1.0</td>\n",
       "      <td>2</td>\n",
       "      <td>4400.0</td>\n",
       "      <td>500</td>\n",
       "      <td>0.00</td>\n",
       "      <td>Everyone</td>\n",
       "    </tr>\n",
       "    <tr>\n",
       "      <th>7926</th>\n",
       "      <td>Tech CU Card Manager</td>\n",
       "      <td>FINANCE</td>\n",
       "      <td>1.0</td>\n",
       "      <td>2</td>\n",
       "      <td>7200.0</td>\n",
       "      <td>1000</td>\n",
       "      <td>0.00</td>\n",
       "      <td>Everyone</td>\n",
       "    </tr>\n",
       "    <tr>\n",
       "      <th>7806</th>\n",
       "      <td>CR Magazine</td>\n",
       "      <td>BUSINESS</td>\n",
       "      <td>1.0</td>\n",
       "      <td>1</td>\n",
       "      <td>7800.0</td>\n",
       "      <td>100</td>\n",
       "      <td>0.00</td>\n",
       "      <td>Everyone</td>\n",
       "    </tr>\n",
       "    <tr>\n",
       "      <th>7427</th>\n",
       "      <td>CJ DVD Rentals</td>\n",
       "      <td>COMMUNICATION</td>\n",
       "      <td>1.0</td>\n",
       "      <td>5</td>\n",
       "      <td>13000.0</td>\n",
       "      <td>100</td>\n",
       "      <td>0.00</td>\n",
       "      <td>Everyone</td>\n",
       "    </tr>\n",
       "    <tr>\n",
       "      <th>7383</th>\n",
       "      <td>Thistletown CI</td>\n",
       "      <td>PRODUCTIVITY</td>\n",
       "      <td>1.0</td>\n",
       "      <td>1</td>\n",
       "      <td>6600.0</td>\n",
       "      <td>100</td>\n",
       "      <td>0.00</td>\n",
       "      <td>Everyone</td>\n",
       "    </tr>\n",
       "    <tr>\n",
       "      <th>7144</th>\n",
       "      <td>CB Mobile Biz</td>\n",
       "      <td>FINANCE</td>\n",
       "      <td>1.0</td>\n",
       "      <td>3</td>\n",
       "      <td>8400.0</td>\n",
       "      <td>500</td>\n",
       "      <td>0.00</td>\n",
       "      <td>Everyone</td>\n",
       "    </tr>\n",
       "    <tr>\n",
       "      <th>6490</th>\n",
       "      <td>MbH BM</td>\n",
       "      <td>MEDICAL</td>\n",
       "      <td>1.0</td>\n",
       "      <td>1</td>\n",
       "      <td>2300.0</td>\n",
       "      <td>100</td>\n",
       "      <td>0.00</td>\n",
       "      <td>Everyone</td>\n",
       "    </tr>\n",
       "    <tr>\n",
       "      <th>6319</th>\n",
       "      <td>BJ Bridge Standard American 2018</td>\n",
       "      <td>GAME</td>\n",
       "      <td>1.0</td>\n",
       "      <td>1</td>\n",
       "      <td>4900.0</td>\n",
       "      <td>1000</td>\n",
       "      <td>0.00</td>\n",
       "      <td>Everyone</td>\n",
       "    </tr>\n",
       "    <tr>\n",
       "      <th>5978</th>\n",
       "      <td>Truck Driving Test Class 3 BC</td>\n",
       "      <td>FAMILY</td>\n",
       "      <td>1.0</td>\n",
       "      <td>1</td>\n",
       "      <td>2000.0</td>\n",
       "      <td>50</td>\n",
       "      <td>1.49</td>\n",
       "      <td>Everyone</td>\n",
       "    </tr>\n",
       "    <tr>\n",
       "      <th>10591</th>\n",
       "      <td>Lottery Ticket Checker - Florida Results &amp; Lotto</td>\n",
       "      <td>TOOLS</td>\n",
       "      <td>1.0</td>\n",
       "      <td>3</td>\n",
       "      <td>41000.0</td>\n",
       "      <td>500</td>\n",
       "      <td>0.00</td>\n",
       "      <td>Everyone</td>\n",
       "    </tr>\n",
       "    <tr>\n",
       "      <th>5151</th>\n",
       "      <td>Clarksburg AH</td>\n",
       "      <td>MEDICAL</td>\n",
       "      <td>1.0</td>\n",
       "      <td>1</td>\n",
       "      <td>28000.0</td>\n",
       "      <td>50</td>\n",
       "      <td>0.00</td>\n",
       "      <td>Everyone</td>\n",
       "    </tr>\n",
       "    <tr>\n",
       "      <th>4127</th>\n",
       "      <td>Speech Therapy: F</td>\n",
       "      <td>FAMILY</td>\n",
       "      <td>1.0</td>\n",
       "      <td>1</td>\n",
       "      <td>16000.0</td>\n",
       "      <td>10</td>\n",
       "      <td>2.99</td>\n",
       "      <td>Everyone</td>\n",
       "    </tr>\n",
       "    <tr>\n",
       "      <th>10082</th>\n",
       "      <td>EY TaxChat</td>\n",
       "      <td>FINANCE</td>\n",
       "      <td>1.2</td>\n",
       "      <td>44</td>\n",
       "      <td>27000.0</td>\n",
       "      <td>1000</td>\n",
       "      <td>0.00</td>\n",
       "      <td>Everyone</td>\n",
       "    </tr>\n",
       "    <tr>\n",
       "      <th>6008</th>\n",
       "      <td>BD Provider App</td>\n",
       "      <td>HEALTH_AND_FITNESS</td>\n",
       "      <td>1.4</td>\n",
       "      <td>45</td>\n",
       "      <td>13000.0</td>\n",
       "      <td>5000</td>\n",
       "      <td>0.00</td>\n",
       "      <td>Everyone</td>\n",
       "    </tr>\n",
       "    <tr>\n",
       "      <th>8258</th>\n",
       "      <td>Quiz DC</td>\n",
       "      <td>GAME</td>\n",
       "      <td>1.4</td>\n",
       "      <td>33</td>\n",
       "      <td>3100.0</td>\n",
       "      <td>1000</td>\n",
       "      <td>0.00</td>\n",
       "      <td>Everyone</td>\n",
       "    </tr>\n",
       "    <tr>\n",
       "      <th>7677</th>\n",
       "      <td>Hercules CP Mobile</td>\n",
       "      <td>TOOLS</td>\n",
       "      <td>1.4</td>\n",
       "      <td>20</td>\n",
       "      <td>4100.0</td>\n",
       "      <td>1000</td>\n",
       "      <td>0.00</td>\n",
       "      <td>Everyone</td>\n",
       "    </tr>\n",
       "    <tr>\n",
       "      <th>7126</th>\n",
       "      <td>CB Mobile Access</td>\n",
       "      <td>FINANCE</td>\n",
       "      <td>1.5</td>\n",
       "      <td>57</td>\n",
       "      <td>25000.0</td>\n",
       "      <td>1000</td>\n",
       "      <td>0.00</td>\n",
       "      <td>Everyone</td>\n",
       "    </tr>\n",
       "    <tr>\n",
       "      <th>7254</th>\n",
       "      <td>CF Climb</td>\n",
       "      <td>LIFESTYLE</td>\n",
       "      <td>1.5</td>\n",
       "      <td>2</td>\n",
       "      <td>3000.0</td>\n",
       "      <td>100</td>\n",
       "      <td>0.00</td>\n",
       "      <td>Everyone</td>\n",
       "    </tr>\n",
       "    <tr>\n",
       "      <th>10562</th>\n",
       "      <td>FK Atlantas</td>\n",
       "      <td>SPORTS</td>\n",
       "      <td>1.5</td>\n",
       "      <td>2</td>\n",
       "      <td>26000.0</td>\n",
       "      <td>5</td>\n",
       "      <td>0.00</td>\n",
       "      <td>Everyone</td>\n",
       "    </tr>\n",
       "    <tr>\n",
       "      <th>8857</th>\n",
       "      <td>DT Smart</td>\n",
       "      <td>TOOLS</td>\n",
       "      <td>1.6</td>\n",
       "      <td>39</td>\n",
       "      <td>8900.0</td>\n",
       "      <td>1000</td>\n",
       "      <td>0.00</td>\n",
       "      <td>Everyone</td>\n",
       "    </tr>\n",
       "    <tr>\n",
       "      <th>4905</th>\n",
       "      <td>AC REMOTE UNIVERSAL-PRO</td>\n",
       "      <td>FAMILY</td>\n",
       "      <td>1.6</td>\n",
       "      <td>402</td>\n",
       "      <td>1700.0</td>\n",
       "      <td>100000</td>\n",
       "      <td>0.00</td>\n",
       "      <td>Everyone</td>\n",
       "    </tr>\n",
       "    <tr>\n",
       "      <th>7636</th>\n",
       "      <td>Co-op Connections</td>\n",
       "      <td>SHOPPING</td>\n",
       "      <td>1.6</td>\n",
       "      <td>8</td>\n",
       "      <td>18000.0</td>\n",
       "      <td>1000</td>\n",
       "      <td>0.00</td>\n",
       "      <td>Everyone</td>\n",
       "    </tr>\n",
       "    <tr>\n",
       "      <th>6663</th>\n",
       "      <td>Pick-a-Paint</td>\n",
       "      <td>LIFESTYLE</td>\n",
       "      <td>1.6</td>\n",
       "      <td>242</td>\n",
       "      <td>36000.0</td>\n",
       "      <td>50000</td>\n",
       "      <td>0.00</td>\n",
       "      <td>Everyone</td>\n",
       "    </tr>\n",
       "    <tr>\n",
       "      <th>4006</th>\n",
       "      <td>C by GE</td>\n",
       "      <td>LIFESTYLE</td>\n",
       "      <td>1.7</td>\n",
       "      <td>686</td>\n",
       "      <td>6600.0</td>\n",
       "      <td>10000</td>\n",
       "      <td>0.00</td>\n",
       "      <td>Everyone</td>\n",
       "    </tr>\n",
       "    <tr>\n",
       "      <th>6135</th>\n",
       "      <td>BG TV App</td>\n",
       "      <td>FAMILY</td>\n",
       "      <td>1.7</td>\n",
       "      <td>6</td>\n",
       "      <td>2900.0</td>\n",
       "      <td>100</td>\n",
       "      <td>0.00</td>\n",
       "      <td>Everyone</td>\n",
       "    </tr>\n",
       "    <tr>\n",
       "      <th>9176</th>\n",
       "      <td>EB Mobile</td>\n",
       "      <td>FAMILY</td>\n",
       "      <td>1.7</td>\n",
       "      <td>1172</td>\n",
       "      <td>5600.0</td>\n",
       "      <td>10000</td>\n",
       "      <td>0.00</td>\n",
       "      <td>Everyone</td>\n",
       "    </tr>\n",
       "    <tr>\n",
       "      <th>8859</th>\n",
       "      <td>DT Baby Cam</td>\n",
       "      <td>TOOLS</td>\n",
       "      <td>1.7</td>\n",
       "      <td>10</td>\n",
       "      <td>23000.0</td>\n",
       "      <td>500</td>\n",
       "      <td>0.00</td>\n",
       "      <td>Everyone</td>\n",
       "    </tr>\n",
       "    <tr>\n",
       "      <th>5736</th>\n",
       "      <td>A&amp;W Restaurants</td>\n",
       "      <td>FOOD_AND_DRINK</td>\n",
       "      <td>1.7</td>\n",
       "      <td>14</td>\n",
       "      <td>13000.0</td>\n",
       "      <td>1000</td>\n",
       "      <td>0.00</td>\n",
       "      <td>Everyone</td>\n",
       "    </tr>\n",
       "    <tr>\n",
       "      <th>4925</th>\n",
       "      <td>A/C REFRIGERANT CAPACITY</td>\n",
       "      <td>BUSINESS</td>\n",
       "      <td>1.7</td>\n",
       "      <td>84</td>\n",
       "      <td>2100.0</td>\n",
       "      <td>10000</td>\n",
       "      <td>0.00</td>\n",
       "      <td>Everyone</td>\n",
       "    </tr>\n",
       "    <tr>\n",
       "      <th>7990</th>\n",
       "      <td>CW TV</td>\n",
       "      <td>NEWS_AND_MAGAZINES</td>\n",
       "      <td>1.7</td>\n",
       "      <td>367</td>\n",
       "      <td>6100.0</td>\n",
       "      <td>50000</td>\n",
       "      <td>0.00</td>\n",
       "      <td>Everyone</td>\n",
       "    </tr>\n",
       "    <tr>\n",
       "      <th>6948</th>\n",
       "      <td>Bitcoin BX Thailand PRO</td>\n",
       "      <td>FINANCE</td>\n",
       "      <td>1.7</td>\n",
       "      <td>21</td>\n",
       "      <td>21000.0</td>\n",
       "      <td>100</td>\n",
       "      <td>4.99</td>\n",
       "      <td>Everyone</td>\n",
       "    </tr>\n",
       "    <tr>\n",
       "      <th>6812</th>\n",
       "      <td>Boston University Alumni</td>\n",
       "      <td>FAMILY</td>\n",
       "      <td>1.8</td>\n",
       "      <td>5</td>\n",
       "      <td>5200.0</td>\n",
       "      <td>1000</td>\n",
       "      <td>0.00</td>\n",
       "      <td>Everyone</td>\n",
       "    </tr>\n",
       "    <tr>\n",
       "      <th>9800</th>\n",
       "      <td>Furrion ES Control</td>\n",
       "      <td>VIDEO_PLAYERS</td>\n",
       "      <td>1.8</td>\n",
       "      <td>26</td>\n",
       "      <td>2700.0</td>\n",
       "      <td>5000</td>\n",
       "      <td>0.00</td>\n",
       "      <td>Everyone</td>\n",
       "    </tr>\n",
       "    <tr>\n",
       "      <th>8838</th>\n",
       "      <td>DS-20000S</td>\n",
       "      <td>PRODUCTIVITY</td>\n",
       "      <td>1.8</td>\n",
       "      <td>12</td>\n",
       "      <td>14000.0</td>\n",
       "      <td>1000</td>\n",
       "      <td>0.00</td>\n",
       "      <td>Everyone</td>\n",
       "    </tr>\n",
       "    <tr>\n",
       "      <th>4161</th>\n",
       "      <td>G-Playlists</td>\n",
       "      <td>TOOLS</td>\n",
       "      <td>1.8</td>\n",
       "      <td>53</td>\n",
       "      <td>3400.0</td>\n",
       "      <td>1000</td>\n",
       "      <td>1.49</td>\n",
       "      <td>Everyone</td>\n",
       "    </tr>\n",
       "    <tr>\n",
       "      <th>6602</th>\n",
       "      <td>Wireless BP</td>\n",
       "      <td>MEDICAL</td>\n",
       "      <td>1.8</td>\n",
       "      <td>30</td>\n",
       "      <td>887.0</td>\n",
       "      <td>500</td>\n",
       "      <td>0.00</td>\n",
       "      <td>Everyone</td>\n",
       "    </tr>\n",
       "    <tr>\n",
       "      <th>4522</th>\n",
       "      <td>Q-Tech Companion App</td>\n",
       "      <td>FOOD_AND_DRINK</td>\n",
       "      <td>1.8</td>\n",
       "      <td>17</td>\n",
       "      <td>3100.0</td>\n",
       "      <td>10000</td>\n",
       "      <td>0.00</td>\n",
       "      <td>Everyone</td>\n",
       "    </tr>\n",
       "    <tr>\n",
       "      <th>6620</th>\n",
       "      <td>bp Magazine for Bipolar</td>\n",
       "      <td>LIFESTYLE</td>\n",
       "      <td>1.8</td>\n",
       "      <td>5</td>\n",
       "      <td>18000.0</td>\n",
       "      <td>1000</td>\n",
       "      <td>0.00</td>\n",
       "      <td>Everyone 10+</td>\n",
       "    </tr>\n",
       "    <tr>\n",
       "      <th>4904</th>\n",
       "      <td>Smart-AC Universal Remote Free</td>\n",
       "      <td>FAMILY</td>\n",
       "      <td>1.8</td>\n",
       "      <td>3270</td>\n",
       "      <td>1800.0</td>\n",
       "      <td>500000</td>\n",
       "      <td>0.00</td>\n",
       "      <td>Everyone</td>\n",
       "    </tr>\n",
       "    <tr>\n",
       "      <th>4726</th>\n",
       "      <td>W Box VMS</td>\n",
       "      <td>VIDEO_PLAYERS</td>\n",
       "      <td>1.9</td>\n",
       "      <td>105</td>\n",
       "      <td>9100.0</td>\n",
       "      <td>10000</td>\n",
       "      <td>0.00</td>\n",
       "      <td>Everyone</td>\n",
       "    </tr>\n",
       "    <tr>\n",
       "      <th>7633</th>\n",
       "      <td>Co Checker</td>\n",
       "      <td>TOOLS</td>\n",
       "      <td>1.9</td>\n",
       "      <td>12</td>\n",
       "      <td>2000.0</td>\n",
       "      <td>1000</td>\n",
       "      <td>0.00</td>\n",
       "      <td>Everyone</td>\n",
       "    </tr>\n",
       "    <tr>\n",
       "      <th>4995</th>\n",
       "      <td>ESS Mobile for AE</td>\n",
       "      <td>PRODUCTIVITY</td>\n",
       "      <td>1.9</td>\n",
       "      <td>63</td>\n",
       "      <td>1800.0</td>\n",
       "      <td>5000</td>\n",
       "      <td>0.00</td>\n",
       "      <td>Everyone</td>\n",
       "    </tr>\n",
       "    <tr>\n",
       "      <th>7416</th>\n",
       "      <td>CJ Fallon eBook Reader</td>\n",
       "      <td>FAMILY</td>\n",
       "      <td>1.9</td>\n",
       "      <td>76</td>\n",
       "      <td>14000.0</td>\n",
       "      <td>5000</td>\n",
       "      <td>0.00</td>\n",
       "      <td>Everyone</td>\n",
       "    </tr>\n",
       "    <tr>\n",
       "      <th>9890</th>\n",
       "      <td>TAXLANDIA</td>\n",
       "      <td>FAMILY</td>\n",
       "      <td>1.9</td>\n",
       "      <td>141</td>\n",
       "      <td>65000.0</td>\n",
       "      <td>1000</td>\n",
       "      <td>0.00</td>\n",
       "      <td>Everyone</td>\n",
       "    </tr>\n",
       "    <tr>\n",
       "      <th>6685</th>\n",
       "      <td>BR Chat Bot</td>\n",
       "      <td>SOCIAL</td>\n",
       "      <td>1.9</td>\n",
       "      <td>16</td>\n",
       "      <td>2600.0</td>\n",
       "      <td>1000</td>\n",
       "      <td>0.00</td>\n",
       "      <td>Everyone</td>\n",
       "    </tr>\n",
       "    <tr>\n",
       "      <th>4906</th>\n",
       "      <td>Kenmore Smart AC</td>\n",
       "      <td>LIFESTYLE</td>\n",
       "      <td>1.9</td>\n",
       "      <td>71</td>\n",
       "      <td>24000.0</td>\n",
       "      <td>5000</td>\n",
       "      <td>0.00</td>\n",
       "      <td>Everyone</td>\n",
       "    </tr>\n",
       "    <tr>\n",
       "      <th>663</th>\n",
       "      <td>Just She - Top Lesbian Dating</td>\n",
       "      <td>DATING</td>\n",
       "      <td>1.9</td>\n",
       "      <td>954</td>\n",
       "      <td>19000.0</td>\n",
       "      <td>100000</td>\n",
       "      <td>0.00</td>\n",
       "      <td>Mature 17+</td>\n",
       "    </tr>\n",
       "    <tr>\n",
       "      <th>8221</th>\n",
       "      <td>DB Transport</td>\n",
       "      <td>MAPS_AND_NAVIGATION</td>\n",
       "      <td>1.9</td>\n",
       "      <td>179</td>\n",
       "      <td>10000.0</td>\n",
       "      <td>10000</td>\n",
       "      <td>0.00</td>\n",
       "      <td>Everyone</td>\n",
       "    </tr>\n",
       "    <tr>\n",
       "      <th>5941</th>\n",
       "      <td>Loreal - BA Makeup</td>\n",
       "      <td>TOOLS</td>\n",
       "      <td>1.9</td>\n",
       "      <td>8</td>\n",
       "      <td>6700.0</td>\n",
       "      <td>1000</td>\n",
       "      <td>0.00</td>\n",
       "      <td>Everyone</td>\n",
       "    </tr>\n",
       "  </tbody>\n",
       "</table>\n",
       "</div>"
      ],
      "text/plain": [
       "                                                    App             Category  \\\n",
       "625                             House party - live chat               DATING   \n",
       "10400           Familial Hypercholesterolaemia Handbook              MEDICAL   \n",
       "10324                    FE Mechanical Engineering Prep               FAMILY   \n",
       "8875                                     DT future1 cam                TOOLS   \n",
       "8820                                     DS Creator 2.0                TOOLS   \n",
       "7926                               Tech CU Card Manager              FINANCE   \n",
       "7806                                        CR Magazine             BUSINESS   \n",
       "7427                                     CJ DVD Rentals        COMMUNICATION   \n",
       "7383                                     Thistletown CI         PRODUCTIVITY   \n",
       "7144                                      CB Mobile Biz              FINANCE   \n",
       "6490                                             MbH BM              MEDICAL   \n",
       "6319                   BJ Bridge Standard American 2018                 GAME   \n",
       "5978                      Truck Driving Test Class 3 BC               FAMILY   \n",
       "10591  Lottery Ticket Checker - Florida Results & Lotto                TOOLS   \n",
       "5151                                      Clarksburg AH              MEDICAL   \n",
       "4127                                  Speech Therapy: F               FAMILY   \n",
       "10082                                        EY TaxChat              FINANCE   \n",
       "6008                                    BD Provider App   HEALTH_AND_FITNESS   \n",
       "8258                                            Quiz DC                 GAME   \n",
       "7677                                 Hercules CP Mobile                TOOLS   \n",
       "7126                                   CB Mobile Access              FINANCE   \n",
       "7254                                           CF Climb            LIFESTYLE   \n",
       "10562                                       FK Atlantas               SPORTS   \n",
       "8857                                           DT Smart                TOOLS   \n",
       "4905                            AC REMOTE UNIVERSAL-PRO               FAMILY   \n",
       "7636                                  Co-op Connections             SHOPPING   \n",
       "6663                                       Pick-a-Paint            LIFESTYLE   \n",
       "4006                                            C by GE            LIFESTYLE   \n",
       "6135                                          BG TV App               FAMILY   \n",
       "9176                                          EB Mobile               FAMILY   \n",
       "8859                                        DT Baby Cam                TOOLS   \n",
       "5736                                    A&W Restaurants       FOOD_AND_DRINK   \n",
       "4925                           A/C REFRIGERANT CAPACITY             BUSINESS   \n",
       "7990                                              CW TV   NEWS_AND_MAGAZINES   \n",
       "6948                            Bitcoin BX Thailand PRO              FINANCE   \n",
       "6812                           Boston University Alumni               FAMILY   \n",
       "9800                                 Furrion ES Control        VIDEO_PLAYERS   \n",
       "8838                                          DS-20000S         PRODUCTIVITY   \n",
       "4161                                        G-Playlists                TOOLS   \n",
       "6602                                        Wireless BP              MEDICAL   \n",
       "4522                               Q-Tech Companion App       FOOD_AND_DRINK   \n",
       "6620                            bp Magazine for Bipolar            LIFESTYLE   \n",
       "4904                     Smart-AC Universal Remote Free               FAMILY   \n",
       "4726                                          W Box VMS        VIDEO_PLAYERS   \n",
       "7633                                         Co Checker                TOOLS   \n",
       "4995                                  ESS Mobile for AE         PRODUCTIVITY   \n",
       "7416                             CJ Fallon eBook Reader               FAMILY   \n",
       "9890                                          TAXLANDIA               FAMILY   \n",
       "6685                                        BR Chat Bot               SOCIAL   \n",
       "4906                                   Kenmore Smart AC            LIFESTYLE   \n",
       "663                       Just She - Top Lesbian Dating               DATING   \n",
       "8221                                       DB Transport  MAPS_AND_NAVIGATION   \n",
       "5941                                 Loreal - BA Makeup                TOOLS   \n",
       "\n",
       "       Rating  Reviews     Size  Installs  Price Content Rating  \n",
       "625       1.0        1   9200.0        10   0.00     Mature 17+  \n",
       "10400     1.0        2  33000.0       100   0.00       Everyone  \n",
       "10324     1.0        2  21000.0      1000   0.00       Everyone  \n",
       "8875      1.0        1  24000.0        50   0.00       Everyone  \n",
       "8820      1.0        2   4400.0       500   0.00       Everyone  \n",
       "7926      1.0        2   7200.0      1000   0.00       Everyone  \n",
       "7806      1.0        1   7800.0       100   0.00       Everyone  \n",
       "7427      1.0        5  13000.0       100   0.00       Everyone  \n",
       "7383      1.0        1   6600.0       100   0.00       Everyone  \n",
       "7144      1.0        3   8400.0       500   0.00       Everyone  \n",
       "6490      1.0        1   2300.0       100   0.00       Everyone  \n",
       "6319      1.0        1   4900.0      1000   0.00       Everyone  \n",
       "5978      1.0        1   2000.0        50   1.49       Everyone  \n",
       "10591     1.0        3  41000.0       500   0.00       Everyone  \n",
       "5151      1.0        1  28000.0        50   0.00       Everyone  \n",
       "4127      1.0        1  16000.0        10   2.99       Everyone  \n",
       "10082     1.2       44  27000.0      1000   0.00       Everyone  \n",
       "6008      1.4       45  13000.0      5000   0.00       Everyone  \n",
       "8258      1.4       33   3100.0      1000   0.00       Everyone  \n",
       "7677      1.4       20   4100.0      1000   0.00       Everyone  \n",
       "7126      1.5       57  25000.0      1000   0.00       Everyone  \n",
       "7254      1.5        2   3000.0       100   0.00       Everyone  \n",
       "10562     1.5        2  26000.0         5   0.00       Everyone  \n",
       "8857      1.6       39   8900.0      1000   0.00       Everyone  \n",
       "4905      1.6      402   1700.0    100000   0.00       Everyone  \n",
       "7636      1.6        8  18000.0      1000   0.00       Everyone  \n",
       "6663      1.6      242  36000.0     50000   0.00       Everyone  \n",
       "4006      1.7      686   6600.0     10000   0.00       Everyone  \n",
       "6135      1.7        6   2900.0       100   0.00       Everyone  \n",
       "9176      1.7     1172   5600.0     10000   0.00       Everyone  \n",
       "8859      1.7       10  23000.0       500   0.00       Everyone  \n",
       "5736      1.7       14  13000.0      1000   0.00       Everyone  \n",
       "4925      1.7       84   2100.0     10000   0.00       Everyone  \n",
       "7990      1.7      367   6100.0     50000   0.00       Everyone  \n",
       "6948      1.7       21  21000.0       100   4.99       Everyone  \n",
       "6812      1.8        5   5200.0      1000   0.00       Everyone  \n",
       "9800      1.8       26   2700.0      5000   0.00       Everyone  \n",
       "8838      1.8       12  14000.0      1000   0.00       Everyone  \n",
       "4161      1.8       53   3400.0      1000   1.49       Everyone  \n",
       "6602      1.8       30    887.0       500   0.00       Everyone  \n",
       "4522      1.8       17   3100.0     10000   0.00       Everyone  \n",
       "6620      1.8        5  18000.0      1000   0.00   Everyone 10+  \n",
       "4904      1.8     3270   1800.0    500000   0.00       Everyone  \n",
       "4726      1.9      105   9100.0     10000   0.00       Everyone  \n",
       "7633      1.9       12   2000.0      1000   0.00       Everyone  \n",
       "4995      1.9       63   1800.0      5000   0.00       Everyone  \n",
       "7416      1.9       76  14000.0      5000   0.00       Everyone  \n",
       "9890      1.9      141  65000.0      1000   0.00       Everyone  \n",
       "6685      1.9       16   2600.0      1000   0.00       Everyone  \n",
       "4906      1.9       71  24000.0      5000   0.00       Everyone  \n",
       "663       1.9      954  19000.0    100000   0.00     Mature 17+  \n",
       "8221      1.9      179  10000.0     10000   0.00       Everyone  \n",
       "5941      1.9        8   6700.0      1000   0.00       Everyone  "
      ]
     },
     "execution_count": 56,
     "metadata": {},
     "output_type": "execute_result"
    }
   ],
   "source": [
    "apps_no_nulls_tc_and_formatted[apps_no_nulls_tc_and_formatted.Rating<2].sort_values('Rating')"
   ]
  },
  {
   "cell_type": "markdown",
   "id": "pressing-ukraine",
   "metadata": {},
   "source": [
    "The Ratings are skewed to the left however, the range is only from 1 to 5 which is small. I also want data for these lower ratings to be able to train our model for that range."
   ]
  },
  {
   "cell_type": "markdown",
   "id": "eight-dinner",
   "metadata": {},
   "source": [
    "<b>e.</b> Lastly I want to look at the Size column."
   ]
  },
  {
   "cell_type": "code",
   "execution_count": 57,
   "id": "turkish-image",
   "metadata": {},
   "outputs": [
    {
     "data": {
      "text/plain": [
       "Text(0.5, 1.0, 'Size(kb) Histogram')"
      ]
     },
     "execution_count": 57,
     "metadata": {},
     "output_type": "execute_result"
    },
    {
     "data": {
      "image/png": "[encoded data removed]",
      "text/plain": [
       "<Figure size 432x288 with 1 Axes>"
      ]
     },
     "metadata": {
      "needs_background": "light"
     },
     "output_type": "display_data"
    }
   ],
   "source": [
    "sns.histplot(apps_no_nulls_tc_and_formatted.Size)\n",
    "plt.title('Size(kb) Histogram')"
   ]
  },
  {
   "cell_type": "code",
   "execution_count": 58,
   "id": "inappropriate-geometry",
   "metadata": {
    "scrolled": true
   },
   "outputs": [
    {
     "data": {
      "text/plain": [
       "Text(0.5, 1.0, 'Size(kb) Boxplot')"
      ]
     },
     "execution_count": 58,
     "metadata": {},
     "output_type": "execute_result"
    },
    {
     "data": {
      "image/png": "[encoded data removed]",
      "text/plain": [
       "<Figure size 432x288 with 1 Axes>"
      ]
     },
     "metadata": {
      "needs_background": "light"
     },
     "output_type": "display_data"
    }
   ],
   "source": [
    "sns.boxplot(x=apps_no_nulls_tc_and_formatted.Size)\n",
    "plt.title('Size(kb) Boxplot')"
   ]
  },
  {
   "cell_type": "markdown",
   "id": "received-europe",
   "metadata": {},
   "source": [
    "The Size distribution is skewed to the right. In the boxplot, the possible outliers are all within 3IQR. Because of this, I will not be dropping any rows."
   ]
  },
  {
   "cell_type": "markdown",
   "id": "opponent-country",
   "metadata": {},
   "source": [
    "## Bivariate Analysis"
   ]
  },
  {
   "cell_type": "markdown",
   "id": "olympic-delivery",
   "metadata": {},
   "source": [
    "I want to see the relationship between Rating and my other columns. I will be using scatterplots for numerical columns and boxplots for categorical data."
   ]
  },
  {
   "cell_type": "code",
   "execution_count": 59,
   "id": "collectible-bibliography",
   "metadata": {},
   "outputs": [],
   "source": [
    "apps_cleaned = apps_no_nulls_tc_and_formatted.copy().reset_index(drop = True)"
   ]
  },
  {
   "cell_type": "markdown",
   "id": "joint-experiment",
   "metadata": {},
   "source": [
    "Dropping rows that are unrated or adults only. They only make up 3 of the apps which is too low to do analysis on."
   ]
  },
  {
   "cell_type": "code",
   "execution_count": 60,
   "id": "increased-syndication",
   "metadata": {},
   "outputs": [],
   "source": [
    "apps_cleaned = apps_cleaned.loc[apps_cleaned['Content Rating'].isin(['Adults only 18+','Unrated'])==False].reset_index(drop = True)"
   ]
  },
  {
   "cell_type": "markdown",
   "id": "structured-playing",
   "metadata": {},
   "source": [
    "<b>a.</b> First, I'll be taking a look at the scatter plot of Rating vs. Price."
   ]
  },
  {
   "cell_type": "code",
   "execution_count": 61,
   "id": "nasty-substance",
   "metadata": {
    "scrolled": true
   },
   "outputs": [
    {
     "data": {
      "text/plain": [
       "Text(0.5, 1.0, 'Rating vs. Price')"
      ]
     },
     "execution_count": 61,
     "metadata": {},
     "output_type": "execute_result"
    },
    {
     "data": {
      "image/png": "[encoded data removed]",
      "text/plain": [
       "<Figure size 432x288 with 1 Axes>"
      ]
     },
     "metadata": {
      "needs_background": "light"
     },
     "output_type": "display_data"
    }
   ],
   "source": [
    "ax = sns.scatterplot(x=apps_cleaned.Price,y=apps_cleaned.Rating)\n",
    "plt.title('Rating vs. Price')"
   ]
  },
  {
   "cell_type": "code",
   "execution_count": 62,
   "id": "exposed-violation",
   "metadata": {},
   "outputs": [
    {
     "data": {
      "text/plain": [
       "Text(0.5, 1.0, 'Rating vs. Price, No Free Apps')"
      ]
     },
     "execution_count": 62,
     "metadata": {},
     "output_type": "execute_result"
    },
    {
     "data": {
      "image/png": "[encoded data removed]",
      "text/plain": [
       "<Figure size 432x288 with 1 Axes>"
      ]
     },
     "metadata": {
      "needs_background": "light"
     },
     "output_type": "display_data"
    }
   ],
   "source": [
    "ax = sns.scatterplot(x=apps_cleaned.loc[apps_cleaned.Price>0,'Price'],y=apps_cleaned.Rating)\n",
    "plt.title('Rating vs. Price, No Free Apps')"
   ]
  },
  {
   "cell_type": "markdown",
   "id": "still-antibody",
   "metadata": {},
   "source": [
    "<p>Most Apps are free and they have Ratings that span the entire range. When looking at apps that cost money, as the price goes up, the ratings become better. This isn't exact, There are many free and low cost apps with ratings close to 5, but the low ratings disappear as the price goes up.</p>\n",
    "<p> This follows the logic that people tend to think better of things the more they spend on it."
   ]
  },
  {
   "cell_type": "markdown",
   "id": "cross-shock",
   "metadata": {},
   "source": [
    "<b>b.</b> Next, I will be looking at Rating vs. Size"
   ]
  },
  {
   "cell_type": "code",
   "execution_count": 63,
   "id": "automatic-child",
   "metadata": {},
   "outputs": [
    {
     "data": {
      "text/plain": [
       "Text(0.5, 1.0, 'Rating vs. Size(kb)')"
      ]
     },
     "execution_count": 63,
     "metadata": {},
     "output_type": "execute_result"
    },
    {
     "data": {
      "image/png": "[encoded data removed]",
      "text/plain": [
       "<Figure size 432x288 with 1 Axes>"
      ]
     },
     "metadata": {
      "needs_background": "light"
     },
     "output_type": "display_data"
    }
   ],
   "source": [
    "ax = sns.scatterplot(x=apps_cleaned.Size,y=apps_cleaned.Rating)\n",
    "plt.title('Rating vs. Size(kb)')"
   ]
  },
  {
   "cell_type": "code",
   "execution_count": 64,
   "id": "public-marking",
   "metadata": {},
   "outputs": [
    {
     "data": {
      "text/plain": [
       "Text(0.5, 1.0, 'Rating vs. Size(kb) Logscale')"
      ]
     },
     "execution_count": 64,
     "metadata": {},
     "output_type": "execute_result"
    },
    {
     "data": {
      "image/png": "[encoded data removed]",
      "text/plain": [
       "<Figure size 432x288 with 1 Axes>"
      ]
     },
     "metadata": {
      "needs_background": "light"
     },
     "output_type": "display_data"
    }
   ],
   "source": [
    "ax = sns.scatterplot(x=apps_cleaned.Size,y=apps_cleaned.Rating)\n",
    "ax.set_xscale('log')\n",
    "plt.title('Rating vs. Size(kb) Logscale')"
   ]
  },
  {
   "cell_type": "markdown",
   "id": "executive-upset",
   "metadata": {},
   "source": [
    "<p>When looking at the graph in a linear scale, the apps that are larger than 45000kb tend to stop having ratings below 2. There also seems to be a trend towards higher ratings as the size of the app goes up.</p>\n",
    "<p>When looking at the graph in logscale, it also seems simpler apps, apps smaller than 1000kb, tend to have better ratings.</p>\n",
    "<p> I can see this as people liking apps that have a specific use, and more complex apps that are fleshed out and work well. I would also like to see if these large size apps fall into a certain category such as gameing.</p>\n",
    "<p><b>c.</b> Now I will be looking at Rating vs. Reviews"
   ]
  },
  {
   "cell_type": "code",
   "execution_count": 65,
   "id": "excess-upper",
   "metadata": {},
   "outputs": [
    {
     "data": {
      "text/plain": [
       "Text(0.5, 1.0, 'Rating vs. Reviews')"
      ]
     },
     "execution_count": 65,
     "metadata": {},
     "output_type": "execute_result"
    },
    {
     "data": {
      "image/png": "[encoded data removed]",
      "text/plain": [
       "<Figure size 432x288 with 1 Axes>"
      ]
     },
     "metadata": {
      "needs_background": "light"
     },
     "output_type": "display_data"
    }
   ],
   "source": [
    "ax =sns.scatterplot(x=apps_cleaned.Reviews,y=apps_cleaned.Rating)\n",
    "plt.title('Rating vs. Reviews')"
   ]
  },
  {
   "cell_type": "code",
   "execution_count": 66,
   "id": "meaningful-soviet",
   "metadata": {},
   "outputs": [
    {
     "data": {
      "text/plain": [
       "Text(0.5, 1.0, 'Rating vs. Reviews Logscale')"
      ]
     },
     "execution_count": 66,
     "metadata": {},
     "output_type": "execute_result"
    },
    {
     "data": {
      "image/png": "[encoded data removed]",
      "text/plain": [
       "<Figure size 432x288 with 1 Axes>"
      ]
     },
     "metadata": {
      "needs_background": "light"
     },
     "output_type": "display_data"
    }
   ],
   "source": [
    "ax =sns.scatterplot(x=apps_cleaned.Reviews,y=apps_cleaned.Rating)\n",
    "ax.set_xscale('log')\n",
    "plt.title('Rating vs. Reviews Logscale')"
   ]
  },
  {
   "cell_type": "markdown",
   "id": "blind-driver",
   "metadata": {},
   "source": [
    "<p>The larger the number of reviews, the better the Rating. This can be seen in the logscale graph, where after about 200 reviews, the ratings start to increase and the low ratings begin to disappear. In the linear scale  it can be seen that apps with many, many reviews have high ratings and no low ratings.</p>\n",
    "<p> This makes sense, as only \"good\" apps would be installeded and reviewed so much.</p>\n",
    "<p><b>d.</b> I will now be looking at categorical variables and box plots. The first is Rating vs. Category."
   ]
  },
  {
   "cell_type": "code",
   "execution_count": 67,
   "id": "tamil-template",
   "metadata": {},
   "outputs": [],
   "source": [
    "#filling a dataframe with the decribe() data for each category\n",
    "categories = pd.DataFrame()\n",
    "for i in apps_cleaned.Category.value_counts().sort_index().index:\n",
    "    categories[i] = apps_cleaned.loc[apps_cleaned.Category==i,'Rating'].describe()"
   ]
  },
  {
   "cell_type": "code",
   "execution_count": 68,
   "id": "stock-auckland",
   "metadata": {},
   "outputs": [],
   "source": [
    "#adding IQR to the describe() data\n",
    "IQR = pd.Series(categories.loc['75%']-categories.loc['25%'], name='IQR')\n",
    "categories = categories.append(IQR)"
   ]
  },
  {
   "cell_type": "code",
   "execution_count": 69,
   "id": "overall-easter",
   "metadata": {},
   "outputs": [
    {
     "data": {
      "image/png": "[encoded data removed]",
      "text/plain": [
       "<Figure size 432x288 with 1 Axes>"
      ]
     },
     "metadata": {
      "needs_background": "light"
     },
     "output_type": "display_data"
    },
    {
     "data": {
      "text/html": [
       "<div>\n",
       "<style scoped>\n",
       "    .dataframe tbody tr th:only-of-type {\n",
       "        vertical-align: middle;\n",
       "    }\n",
       "\n",
       "    .dataframe tbody tr th {\n",
       "        vertical-align: top;\n",
       "    }\n",
       "\n",
       "    .dataframe thead th {\n",
       "        text-align: right;\n",
       "    }\n",
       "</style>\n",
       "<table border=\"1\" class=\"dataframe\">\n",
       "  <thead>\n",
       "    <tr style=\"text-align: right;\">\n",
       "      <th></th>\n",
       "      <th>ART_AND_DESIGN</th>\n",
       "      <th>AUTO_AND_VEHICLES</th>\n",
       "      <th>BEAUTY</th>\n",
       "      <th>BOOKS_AND_REFERENCE</th>\n",
       "      <th>BUSINESS</th>\n",
       "      <th>COMICS</th>\n",
       "      <th>COMMUNICATION</th>\n",
       "      <th>DATING</th>\n",
       "      <th>EDUCATION</th>\n",
       "      <th>ENTERTAINMENT</th>\n",
       "      <th>EVENTS</th>\n",
       "      <th>FAMILY</th>\n",
       "      <th>FINANCE</th>\n",
       "      <th>FOOD_AND_DRINK</th>\n",
       "      <th>GAME</th>\n",
       "      <th>HEALTH_AND_FITNESS</th>\n",
       "      <th>HOUSE_AND_HOME</th>\n",
       "      <th>LIBRARIES_AND_DEMO</th>\n",
       "      <th>LIFESTYLE</th>\n",
       "      <th>MAPS_AND_NAVIGATION</th>\n",
       "      <th>MEDICAL</th>\n",
       "      <th>NEWS_AND_MAGAZINES</th>\n",
       "      <th>PARENTING</th>\n",
       "      <th>PERSONALIZATION</th>\n",
       "      <th>PHOTOGRAPHY</th>\n",
       "      <th>PRODUCTIVITY</th>\n",
       "      <th>SHOPPING</th>\n",
       "      <th>SOCIAL</th>\n",
       "      <th>SPORTS</th>\n",
       "      <th>TOOLS</th>\n",
       "      <th>TRAVEL_AND_LOCAL</th>\n",
       "      <th>VIDEO_PLAYERS</th>\n",
       "      <th>WEATHER</th>\n",
       "    </tr>\n",
       "  </thead>\n",
       "  <tbody>\n",
       "    <tr>\n",
       "      <th>count</th>\n",
       "      <td>56.000000</td>\n",
       "      <td>63.000000</td>\n",
       "      <td>37.000000</td>\n",
       "      <td>141.000000</td>\n",
       "      <td>218.000000</td>\n",
       "      <td>46.000000</td>\n",
       "      <td>182.000000</td>\n",
       "      <td>122.000000</td>\n",
       "      <td>75.000000</td>\n",
       "      <td>48.000000</td>\n",
       "      <td>38.000000</td>\n",
       "      <td>1514.000000</td>\n",
       "      <td>251.000000</td>\n",
       "      <td>72.000000</td>\n",
       "      <td>726.000000</td>\n",
       "      <td>190.000000</td>\n",
       "      <td>49.000000</td>\n",
       "      <td>61.000000</td>\n",
       "      <td>262.000000</td>\n",
       "      <td>93.000000</td>\n",
       "      <td>267.000000</td>\n",
       "      <td>153.000000</td>\n",
       "      <td>44.000000</td>\n",
       "      <td>270.000000</td>\n",
       "      <td>191.000000</td>\n",
       "      <td>215.000000</td>\n",
       "      <td>142.000000</td>\n",
       "      <td>152.000000</td>\n",
       "      <td>214.000000</td>\n",
       "      <td>603.000000</td>\n",
       "      <td>141.000000</td>\n",
       "      <td>103.000000</td>\n",
       "      <td>49.000000</td>\n",
       "    </tr>\n",
       "    <tr>\n",
       "      <th>mean</th>\n",
       "      <td>4.360714</td>\n",
       "      <td>4.147619</td>\n",
       "      <td>4.291892</td>\n",
       "      <td>4.322695</td>\n",
       "      <td>4.093578</td>\n",
       "      <td>4.158696</td>\n",
       "      <td>4.064286</td>\n",
       "      <td>3.963934</td>\n",
       "      <td>4.357333</td>\n",
       "      <td>4.147917</td>\n",
       "      <td>4.478947</td>\n",
       "      <td>4.182629</td>\n",
       "      <td>4.107171</td>\n",
       "      <td>4.108333</td>\n",
       "      <td>4.212534</td>\n",
       "      <td>4.190526</td>\n",
       "      <td>4.116327</td>\n",
       "      <td>4.203279</td>\n",
       "      <td>4.098473</td>\n",
       "      <td>4.004301</td>\n",
       "      <td>4.165543</td>\n",
       "      <td>4.145098</td>\n",
       "      <td>4.347727</td>\n",
       "      <td>4.321111</td>\n",
       "      <td>4.092147</td>\n",
       "      <td>4.122326</td>\n",
       "      <td>4.209155</td>\n",
       "      <td>4.255921</td>\n",
       "      <td>4.197196</td>\n",
       "      <td>3.993367</td>\n",
       "      <td>4.011348</td>\n",
       "      <td>3.991262</td>\n",
       "      <td>4.238776</td>\n",
       "    </tr>\n",
       "    <tr>\n",
       "      <th>std</th>\n",
       "      <td>0.367141</td>\n",
       "      <td>0.565359</td>\n",
       "      <td>0.370719</td>\n",
       "      <td>0.461886</td>\n",
       "      <td>0.693522</td>\n",
       "      <td>0.558401</td>\n",
       "      <td>0.527675</td>\n",
       "      <td>0.665820</td>\n",
       "      <td>0.287192</td>\n",
       "      <td>0.328756</td>\n",
       "      <td>0.351182</td>\n",
       "      <td>0.526981</td>\n",
       "      <td>0.702815</td>\n",
       "      <td>0.608103</td>\n",
       "      <td>0.412254</td>\n",
       "      <td>0.740595</td>\n",
       "      <td>0.384787</td>\n",
       "      <td>0.370120</td>\n",
       "      <td>0.730400</td>\n",
       "      <td>0.563551</td>\n",
       "      <td>0.705625</td>\n",
       "      <td>0.615367</td>\n",
       "      <td>0.415115</td>\n",
       "      <td>0.371222</td>\n",
       "      <td>0.547810</td>\n",
       "      <td>0.597553</td>\n",
       "      <td>0.477568</td>\n",
       "      <td>0.507132</td>\n",
       "      <td>0.491230</td>\n",
       "      <td>0.646012</td>\n",
       "      <td>0.571351</td>\n",
       "      <td>0.611669</td>\n",
       "      <td>0.348698</td>\n",
       "    </tr>\n",
       "    <tr>\n",
       "      <th>min</th>\n",
       "      <td>3.200000</td>\n",
       "      <td>2.100000</td>\n",
       "      <td>3.100000</td>\n",
       "      <td>2.700000</td>\n",
       "      <td>1.000000</td>\n",
       "      <td>2.800000</td>\n",
       "      <td>1.000000</td>\n",
       "      <td>1.000000</td>\n",
       "      <td>3.500000</td>\n",
       "      <td>3.000000</td>\n",
       "      <td>3.700000</td>\n",
       "      <td>1.000000</td>\n",
       "      <td>1.000000</td>\n",
       "      <td>1.700000</td>\n",
       "      <td>1.000000</td>\n",
       "      <td>1.400000</td>\n",
       "      <td>2.800000</td>\n",
       "      <td>3.100000</td>\n",
       "      <td>1.500000</td>\n",
       "      <td>1.900000</td>\n",
       "      <td>1.000000</td>\n",
       "      <td>1.700000</td>\n",
       "      <td>3.100000</td>\n",
       "      <td>2.500000</td>\n",
       "      <td>2.000000</td>\n",
       "      <td>1.000000</td>\n",
       "      <td>1.600000</td>\n",
       "      <td>1.900000</td>\n",
       "      <td>1.500000</td>\n",
       "      <td>1.000000</td>\n",
       "      <td>2.200000</td>\n",
       "      <td>1.800000</td>\n",
       "      <td>3.300000</td>\n",
       "    </tr>\n",
       "    <tr>\n",
       "      <th>25%</th>\n",
       "      <td>4.100000</td>\n",
       "      <td>3.900000</td>\n",
       "      <td>4.000000</td>\n",
       "      <td>4.100000</td>\n",
       "      <td>3.800000</td>\n",
       "      <td>3.825000</td>\n",
       "      <td>3.900000</td>\n",
       "      <td>3.500000</td>\n",
       "      <td>4.200000</td>\n",
       "      <td>3.975000</td>\n",
       "      <td>4.300000</td>\n",
       "      <td>4.000000</td>\n",
       "      <td>3.900000</td>\n",
       "      <td>3.800000</td>\n",
       "      <td>4.000000</td>\n",
       "      <td>4.000000</td>\n",
       "      <td>3.900000</td>\n",
       "      <td>4.000000</td>\n",
       "      <td>3.800000</td>\n",
       "      <td>3.700000</td>\n",
       "      <td>3.900000</td>\n",
       "      <td>4.000000</td>\n",
       "      <td>4.100000</td>\n",
       "      <td>4.100000</td>\n",
       "      <td>4.000000</td>\n",
       "      <td>4.000000</td>\n",
       "      <td>4.100000</td>\n",
       "      <td>4.100000</td>\n",
       "      <td>4.000000</td>\n",
       "      <td>3.700000</td>\n",
       "      <td>3.700000</td>\n",
       "      <td>3.650000</td>\n",
       "      <td>4.000000</td>\n",
       "    </tr>\n",
       "    <tr>\n",
       "      <th>50%</th>\n",
       "      <td>4.400000</td>\n",
       "      <td>4.200000</td>\n",
       "      <td>4.300000</td>\n",
       "      <td>4.400000</td>\n",
       "      <td>4.250000</td>\n",
       "      <td>4.400000</td>\n",
       "      <td>4.100000</td>\n",
       "      <td>4.100000</td>\n",
       "      <td>4.400000</td>\n",
       "      <td>4.200000</td>\n",
       "      <td>4.500000</td>\n",
       "      <td>4.300000</td>\n",
       "      <td>4.300000</td>\n",
       "      <td>4.200000</td>\n",
       "      <td>4.300000</td>\n",
       "      <td>4.500000</td>\n",
       "      <td>4.100000</td>\n",
       "      <td>4.200000</td>\n",
       "      <td>4.250000</td>\n",
       "      <td>4.200000</td>\n",
       "      <td>4.300000</td>\n",
       "      <td>4.300000</td>\n",
       "      <td>4.450000</td>\n",
       "      <td>4.400000</td>\n",
       "      <td>4.200000</td>\n",
       "      <td>4.200000</td>\n",
       "      <td>4.300000</td>\n",
       "      <td>4.300000</td>\n",
       "      <td>4.300000</td>\n",
       "      <td>4.100000</td>\n",
       "      <td>4.200000</td>\n",
       "      <td>4.200000</td>\n",
       "      <td>4.300000</td>\n",
       "    </tr>\n",
       "    <tr>\n",
       "      <th>75%</th>\n",
       "      <td>4.700000</td>\n",
       "      <td>4.500000</td>\n",
       "      <td>4.600000</td>\n",
       "      <td>4.700000</td>\n",
       "      <td>4.500000</td>\n",
       "      <td>4.575000</td>\n",
       "      <td>4.400000</td>\n",
       "      <td>4.400000</td>\n",
       "      <td>4.600000</td>\n",
       "      <td>4.325000</td>\n",
       "      <td>4.775000</td>\n",
       "      <td>4.500000</td>\n",
       "      <td>4.550000</td>\n",
       "      <td>4.500000</td>\n",
       "      <td>4.500000</td>\n",
       "      <td>4.600000</td>\n",
       "      <td>4.400000</td>\n",
       "      <td>4.400000</td>\n",
       "      <td>4.600000</td>\n",
       "      <td>4.400000</td>\n",
       "      <td>4.600000</td>\n",
       "      <td>4.500000</td>\n",
       "      <td>4.700000</td>\n",
       "      <td>4.575000</td>\n",
       "      <td>4.500000</td>\n",
       "      <td>4.500000</td>\n",
       "      <td>4.500000</td>\n",
       "      <td>4.600000</td>\n",
       "      <td>4.500000</td>\n",
       "      <td>4.400000</td>\n",
       "      <td>4.400000</td>\n",
       "      <td>4.400000</td>\n",
       "      <td>4.500000</td>\n",
       "    </tr>\n",
       "    <tr>\n",
       "      <th>max</th>\n",
       "      <td>5.000000</td>\n",
       "      <td>4.900000</td>\n",
       "      <td>4.900000</td>\n",
       "      <td>5.000000</td>\n",
       "      <td>5.000000</td>\n",
       "      <td>5.000000</td>\n",
       "      <td>5.000000</td>\n",
       "      <td>5.000000</td>\n",
       "      <td>4.900000</td>\n",
       "      <td>4.700000</td>\n",
       "      <td>5.000000</td>\n",
       "      <td>5.000000</td>\n",
       "      <td>5.000000</td>\n",
       "      <td>5.000000</td>\n",
       "      <td>5.000000</td>\n",
       "      <td>5.000000</td>\n",
       "      <td>4.800000</td>\n",
       "      <td>5.000000</td>\n",
       "      <td>5.000000</td>\n",
       "      <td>4.900000</td>\n",
       "      <td>5.000000</td>\n",
       "      <td>5.000000</td>\n",
       "      <td>5.000000</td>\n",
       "      <td>5.000000</td>\n",
       "      <td>5.000000</td>\n",
       "      <td>5.000000</td>\n",
       "      <td>5.000000</td>\n",
       "      <td>5.000000</td>\n",
       "      <td>5.000000</td>\n",
       "      <td>5.000000</td>\n",
       "      <td>5.000000</td>\n",
       "      <td>4.900000</td>\n",
       "      <td>4.800000</td>\n",
       "    </tr>\n",
       "    <tr>\n",
       "      <th>IQR</th>\n",
       "      <td>0.600000</td>\n",
       "      <td>0.600000</td>\n",
       "      <td>0.600000</td>\n",
       "      <td>0.600000</td>\n",
       "      <td>0.700000</td>\n",
       "      <td>0.750000</td>\n",
       "      <td>0.500000</td>\n",
       "      <td>0.900000</td>\n",
       "      <td>0.400000</td>\n",
       "      <td>0.350000</td>\n",
       "      <td>0.475000</td>\n",
       "      <td>0.500000</td>\n",
       "      <td>0.650000</td>\n",
       "      <td>0.700000</td>\n",
       "      <td>0.500000</td>\n",
       "      <td>0.600000</td>\n",
       "      <td>0.500000</td>\n",
       "      <td>0.400000</td>\n",
       "      <td>0.800000</td>\n",
       "      <td>0.700000</td>\n",
       "      <td>0.700000</td>\n",
       "      <td>0.500000</td>\n",
       "      <td>0.600000</td>\n",
       "      <td>0.475000</td>\n",
       "      <td>0.500000</td>\n",
       "      <td>0.500000</td>\n",
       "      <td>0.400000</td>\n",
       "      <td>0.500000</td>\n",
       "      <td>0.500000</td>\n",
       "      <td>0.700000</td>\n",
       "      <td>0.700000</td>\n",
       "      <td>0.750000</td>\n",
       "      <td>0.500000</td>\n",
       "    </tr>\n",
       "  </tbody>\n",
       "</table>\n",
       "</div>"
      ],
      "text/plain": [
       "       ART_AND_DESIGN  AUTO_AND_VEHICLES     BEAUTY  BOOKS_AND_REFERENCE  \\\n",
       "count       56.000000          63.000000  37.000000           141.000000   \n",
       "mean         4.360714           4.147619   4.291892             4.322695   \n",
       "std          0.367141           0.565359   0.370719             0.461886   \n",
       "min          3.200000           2.100000   3.100000             2.700000   \n",
       "25%          4.100000           3.900000   4.000000             4.100000   \n",
       "50%          4.400000           4.200000   4.300000             4.400000   \n",
       "75%          4.700000           4.500000   4.600000             4.700000   \n",
       "max          5.000000           4.900000   4.900000             5.000000   \n",
       "IQR          0.600000           0.600000   0.600000             0.600000   \n",
       "\n",
       "         BUSINESS     COMICS  COMMUNICATION      DATING  EDUCATION  \\\n",
       "count  218.000000  46.000000     182.000000  122.000000  75.000000   \n",
       "mean     4.093578   4.158696       4.064286    3.963934   4.357333   \n",
       "std      0.693522   0.558401       0.527675    0.665820   0.287192   \n",
       "min      1.000000   2.800000       1.000000    1.000000   3.500000   \n",
       "25%      3.800000   3.825000       3.900000    3.500000   4.200000   \n",
       "50%      4.250000   4.400000       4.100000    4.100000   4.400000   \n",
       "75%      4.500000   4.575000       4.400000    4.400000   4.600000   \n",
       "max      5.000000   5.000000       5.000000    5.000000   4.900000   \n",
       "IQR      0.700000   0.750000       0.500000    0.900000   0.400000   \n",
       "\n",
       "       ENTERTAINMENT     EVENTS       FAMILY     FINANCE  FOOD_AND_DRINK  \\\n",
       "count      48.000000  38.000000  1514.000000  251.000000       72.000000   \n",
       "mean        4.147917   4.478947     4.182629    4.107171        4.108333   \n",
       "std         0.328756   0.351182     0.526981    0.702815        0.608103   \n",
       "min         3.000000   3.700000     1.000000    1.000000        1.700000   \n",
       "25%         3.975000   4.300000     4.000000    3.900000        3.800000   \n",
       "50%         4.200000   4.500000     4.300000    4.300000        4.200000   \n",
       "75%         4.325000   4.775000     4.500000    4.550000        4.500000   \n",
       "max         4.700000   5.000000     5.000000    5.000000        5.000000   \n",
       "IQR         0.350000   0.475000     0.500000    0.650000        0.700000   \n",
       "\n",
       "             GAME  HEALTH_AND_FITNESS  HOUSE_AND_HOME  LIBRARIES_AND_DEMO  \\\n",
       "count  726.000000          190.000000       49.000000           61.000000   \n",
       "mean     4.212534            4.190526        4.116327            4.203279   \n",
       "std      0.412254            0.740595        0.384787            0.370120   \n",
       "min      1.000000            1.400000        2.800000            3.100000   \n",
       "25%      4.000000            4.000000        3.900000            4.000000   \n",
       "50%      4.300000            4.500000        4.100000            4.200000   \n",
       "75%      4.500000            4.600000        4.400000            4.400000   \n",
       "max      5.000000            5.000000        4.800000            5.000000   \n",
       "IQR      0.500000            0.600000        0.500000            0.400000   \n",
       "\n",
       "        LIFESTYLE  MAPS_AND_NAVIGATION     MEDICAL  NEWS_AND_MAGAZINES  \\\n",
       "count  262.000000            93.000000  267.000000          153.000000   \n",
       "mean     4.098473             4.004301    4.165543            4.145098   \n",
       "std      0.730400             0.563551    0.705625            0.615367   \n",
       "min      1.500000             1.900000    1.000000            1.700000   \n",
       "25%      3.800000             3.700000    3.900000            4.000000   \n",
       "50%      4.250000             4.200000    4.300000            4.300000   \n",
       "75%      4.600000             4.400000    4.600000            4.500000   \n",
       "max      5.000000             4.900000    5.000000            5.000000   \n",
       "IQR      0.800000             0.700000    0.700000            0.500000   \n",
       "\n",
       "       PARENTING  PERSONALIZATION  PHOTOGRAPHY  PRODUCTIVITY    SHOPPING  \\\n",
       "count  44.000000       270.000000   191.000000    215.000000  142.000000   \n",
       "mean    4.347727         4.321111     4.092147      4.122326    4.209155   \n",
       "std     0.415115         0.371222     0.547810      0.597553    0.477568   \n",
       "min     3.100000         2.500000     2.000000      1.000000    1.600000   \n",
       "25%     4.100000         4.100000     4.000000      4.000000    4.100000   \n",
       "50%     4.450000         4.400000     4.200000      4.200000    4.300000   \n",
       "75%     4.700000         4.575000     4.500000      4.500000    4.500000   \n",
       "max     5.000000         5.000000     5.000000      5.000000    5.000000   \n",
       "IQR     0.600000         0.475000     0.500000      0.500000    0.400000   \n",
       "\n",
       "           SOCIAL      SPORTS       TOOLS  TRAVEL_AND_LOCAL  VIDEO_PLAYERS  \\\n",
       "count  152.000000  214.000000  603.000000        141.000000     103.000000   \n",
       "mean     4.255921    4.197196    3.993367          4.011348       3.991262   \n",
       "std      0.507132    0.491230    0.646012          0.571351       0.611669   \n",
       "min      1.900000    1.500000    1.000000          2.200000       1.800000   \n",
       "25%      4.100000    4.000000    3.700000          3.700000       3.650000   \n",
       "50%      4.300000    4.300000    4.100000          4.200000       4.200000   \n",
       "75%      4.600000    4.500000    4.400000          4.400000       4.400000   \n",
       "max      5.000000    5.000000    5.000000          5.000000       4.900000   \n",
       "IQR      0.500000    0.500000    0.700000          0.700000       0.750000   \n",
       "\n",
       "         WEATHER  \n",
       "count  49.000000  \n",
       "mean    4.238776  \n",
       "std     0.348698  \n",
       "min     3.300000  \n",
       "25%     4.000000  \n",
       "50%     4.300000  \n",
       "75%     4.500000  \n",
       "max     4.800000  \n",
       "IQR     0.500000  "
      ]
     },
     "metadata": {},
     "output_type": "display_data"
    }
   ],
   "source": [
    "ax = sns.boxplot(x=apps_cleaned.Category,y=apps_cleaned.Rating)\n",
    "plt.xticks(rotation=90)\n",
    "plt.axhline(4.5)\n",
    "plt.axhline(4)\n",
    "plt.title('Rating vs. Category')\n",
    "plt.show()\n",
    "#showing all columns in categories\n",
    "pd.set_option('display.max_columns', None)\n",
    "display(categories)\n",
    "#resetting max columns displayed to 20\n",
    "pd.set_option('display.max_columns', 20)"
   ]
  },
  {
   "cell_type": "markdown",
   "id": "miniature-austin",
   "metadata": {},
   "source": [
    "All categories have their medians between 4 and 4.5. However, there are some app categories that do better. For instance, there are three apps with more than 50% of their ratings above 4.5. They are Events, Health and Fitness, and Parenting. Events also has the highest minimum rating at 3.7. Whereas entertainment apps have the smallest variance in rating with an IQR of 0.35.\n",
    "<p><b>e.</b> Lastly, I will be looking at the box plots of Rating vs Category."
   ]
  },
  {
   "cell_type": "code",
   "execution_count": 70,
   "id": "completed-garden",
   "metadata": {},
   "outputs": [],
   "source": [
    "#filling a dataframe with the decribe() data for each category\n",
    "content_rating = pd.DataFrame()\n",
    "for i in apps_cleaned['Content Rating'].value_counts().index:\n",
    "    content_rating[i] = apps_cleaned.loc[apps_cleaned['Content Rating']==i,'Rating'].describe()"
   ]
  },
  {
   "cell_type": "code",
   "execution_count": 71,
   "id": "irish-biodiversity",
   "metadata": {},
   "outputs": [],
   "source": [
    "#adding IQR to the describe() data\n",
    "IQR = pd.Series(content_rating.loc['75%']-content_rating.loc['25%'], name='IQR')\n",
    "content_rating = content_rating.append(IQR)"
   ]
  },
  {
   "cell_type": "code",
   "execution_count": 72,
   "id": "talented-album",
   "metadata": {},
   "outputs": [
    {
     "data": {
      "image/png": "[encoded data removed]",
      "text/plain": [
       "<Figure size 432x288 with 1 Axes>"
      ]
     },
     "metadata": {
      "needs_background": "light"
     },
     "output_type": "display_data"
    },
    {
     "data": {
      "text/html": [
       "<div>\n",
       "<style scoped>\n",
       "    .dataframe tbody tr th:only-of-type {\n",
       "        vertical-align: middle;\n",
       "    }\n",
       "\n",
       "    .dataframe tbody tr th {\n",
       "        vertical-align: top;\n",
       "    }\n",
       "\n",
       "    .dataframe thead th {\n",
       "        text-align: right;\n",
       "    }\n",
       "</style>\n",
       "<table border=\"1\" class=\"dataframe\">\n",
       "  <thead>\n",
       "    <tr style=\"text-align: right;\">\n",
       "      <th></th>\n",
       "      <th>Everyone</th>\n",
       "      <th>Teen</th>\n",
       "      <th>Mature 17+</th>\n",
       "      <th>Everyone 10+</th>\n",
       "    </tr>\n",
       "  </thead>\n",
       "  <tbody>\n",
       "    <tr>\n",
       "      <th>count</th>\n",
       "      <td>5520.000000</td>\n",
       "      <td>729.000000</td>\n",
       "      <td>298.000000</td>\n",
       "      <td>241.000000</td>\n",
       "    </tr>\n",
       "    <tr>\n",
       "      <th>mean</th>\n",
       "      <td>4.146775</td>\n",
       "      <td>4.216049</td>\n",
       "      <td>4.104027</td>\n",
       "      <td>4.214523</td>\n",
       "    </tr>\n",
       "    <tr>\n",
       "      <th>std</th>\n",
       "      <td>0.587556</td>\n",
       "      <td>0.427750</td>\n",
       "      <td>0.543945</td>\n",
       "      <td>0.427001</td>\n",
       "    </tr>\n",
       "    <tr>\n",
       "      <th>min</th>\n",
       "      <td>1.000000</td>\n",
       "      <td>2.000000</td>\n",
       "      <td>1.000000</td>\n",
       "      <td>1.800000</td>\n",
       "    </tr>\n",
       "    <tr>\n",
       "      <th>25%</th>\n",
       "      <td>3.900000</td>\n",
       "      <td>4.000000</td>\n",
       "      <td>3.900000</td>\n",
       "      <td>4.000000</td>\n",
       "    </tr>\n",
       "    <tr>\n",
       "      <th>50%</th>\n",
       "      <td>4.300000</td>\n",
       "      <td>4.300000</td>\n",
       "      <td>4.200000</td>\n",
       "      <td>4.300000</td>\n",
       "    </tr>\n",
       "    <tr>\n",
       "      <th>75%</th>\n",
       "      <td>4.500000</td>\n",
       "      <td>4.500000</td>\n",
       "      <td>4.500000</td>\n",
       "      <td>4.500000</td>\n",
       "    </tr>\n",
       "    <tr>\n",
       "      <th>max</th>\n",
       "      <td>5.000000</td>\n",
       "      <td>5.000000</td>\n",
       "      <td>5.000000</td>\n",
       "      <td>5.000000</td>\n",
       "    </tr>\n",
       "    <tr>\n",
       "      <th>IQR</th>\n",
       "      <td>0.600000</td>\n",
       "      <td>0.500000</td>\n",
       "      <td>0.600000</td>\n",
       "      <td>0.500000</td>\n",
       "    </tr>\n",
       "  </tbody>\n",
       "</table>\n",
       "</div>"
      ],
      "text/plain": [
       "          Everyone        Teen  Mature 17+  Everyone 10+\n",
       "count  5520.000000  729.000000  298.000000    241.000000\n",
       "mean      4.146775    4.216049    4.104027      4.214523\n",
       "std       0.587556    0.427750    0.543945      0.427001\n",
       "min       1.000000    2.000000    1.000000      1.800000\n",
       "25%       3.900000    4.000000    3.900000      4.000000\n",
       "50%       4.300000    4.300000    4.200000      4.300000\n",
       "75%       4.500000    4.500000    4.500000      4.500000\n",
       "max       5.000000    5.000000    5.000000      5.000000\n",
       "IQR       0.600000    0.500000    0.600000      0.500000"
      ]
     },
     "metadata": {},
     "output_type": "display_data"
    }
   ],
   "source": [
    "ax = sns.boxplot(x=apps_cleaned['Content Rating'],y=apps_cleaned.Rating)\n",
    "plt.xticks(rotation=90)\n",
    "plt.title('Rating vs. Content Rating')\n",
    "plt.show()\n",
    "#showing all columns in categories\n",
    "pd.set_option('display.max_columns', None)\n",
    "display(content_rating)\n",
    "#resetting max columns displayed to 20\n",
    "pd.set_option('display.max_columns', 20)"
   ]
  },
  {
   "cell_type": "markdown",
   "id": "adjusted-library",
   "metadata": {},
   "source": [
    "The Content Ratings have similar boxplots. The Teen and Everyone 10+ content ratings do slightly better than the other two in terms of median and IQR."
   ]
  },
  {
   "cell_type": "markdown",
   "id": "bridal-traffic",
   "metadata": {},
   "source": [
    "## Preprocessing for linear regression"
   ]
  },
  {
   "cell_type": "markdown",
   "id": "photographic-lyric",
   "metadata": {},
   "source": [
    "I need to drop the App column, log transform the Installs and Reviews columns, and make dummy variables for Category, Genres, and Content Rating.\n",
    "<p><b>a.</b> I will be dropping the App Column first."
   ]
  },
  {
   "cell_type": "code",
   "execution_count": 73,
   "id": "wanted-navigator",
   "metadata": {},
   "outputs": [],
   "source": [
    "inp2 = apps_cleaned.copy()"
   ]
  },
  {
   "cell_type": "code",
   "execution_count": 74,
   "id": "verified-drive",
   "metadata": {},
   "outputs": [],
   "source": [
    "inp2 = inp2.drop('App',axis=1)"
   ]
  },
  {
   "cell_type": "markdown",
   "id": "united-semester",
   "metadata": {},
   "source": [
    "<p><b>b.</b> I will be log transforming the Installs and Reviews columns and dropping the old columns next."
   ]
  },
  {
   "cell_type": "code",
   "execution_count": 75,
   "id": "coastal-community",
   "metadata": {},
   "outputs": [],
   "source": [
    "inp2['Installs_log']=np.log1p(inp2.Installs)\n",
    "inp2['Reviews_log']=np.log1p(inp2.Reviews)\n",
    "inp2 = inp2.drop(['Reviews','Installs'],axis=1)"
   ]
  },
  {
   "cell_type": "code",
   "execution_count": 76,
   "id": "relevant-savage",
   "metadata": {},
   "outputs": [
    {
     "data": {
      "text/html": [
       "<div>\n",
       "<style scoped>\n",
       "    .dataframe tbody tr th:only-of-type {\n",
       "        vertical-align: middle;\n",
       "    }\n",
       "\n",
       "    .dataframe tbody tr th {\n",
       "        vertical-align: top;\n",
       "    }\n",
       "\n",
       "    .dataframe thead th {\n",
       "        text-align: right;\n",
       "    }\n",
       "</style>\n",
       "<table border=\"1\" class=\"dataframe\">\n",
       "  <thead>\n",
       "    <tr style=\"text-align: right;\">\n",
       "      <th></th>\n",
       "      <th>Category</th>\n",
       "      <th>Rating</th>\n",
       "      <th>Size</th>\n",
       "      <th>Price</th>\n",
       "      <th>Content Rating</th>\n",
       "      <th>Installs_log</th>\n",
       "      <th>Reviews_log</th>\n",
       "    </tr>\n",
       "  </thead>\n",
       "  <tbody>\n",
       "    <tr>\n",
       "      <th>0</th>\n",
       "      <td>ART_AND_DESIGN</td>\n",
       "      <td>4.1</td>\n",
       "      <td>19000.0</td>\n",
       "      <td>0.0</td>\n",
       "      <td>Everyone</td>\n",
       "      <td>9.210440</td>\n",
       "      <td>5.075174</td>\n",
       "    </tr>\n",
       "    <tr>\n",
       "      <th>1</th>\n",
       "      <td>ART_AND_DESIGN</td>\n",
       "      <td>4.7</td>\n",
       "      <td>8700.0</td>\n",
       "      <td>0.0</td>\n",
       "      <td>Everyone</td>\n",
       "      <td>15.424949</td>\n",
       "      <td>11.379520</td>\n",
       "    </tr>\n",
       "    <tr>\n",
       "      <th>2</th>\n",
       "      <td>ART_AND_DESIGN</td>\n",
       "      <td>4.3</td>\n",
       "      <td>2800.0</td>\n",
       "      <td>0.0</td>\n",
       "      <td>Everyone</td>\n",
       "      <td>11.512935</td>\n",
       "      <td>6.875232</td>\n",
       "    </tr>\n",
       "    <tr>\n",
       "      <th>3</th>\n",
       "      <td>ART_AND_DESIGN</td>\n",
       "      <td>4.4</td>\n",
       "      <td>5600.0</td>\n",
       "      <td>0.0</td>\n",
       "      <td>Everyone</td>\n",
       "      <td>10.819798</td>\n",
       "      <td>5.123964</td>\n",
       "    </tr>\n",
       "    <tr>\n",
       "      <th>4</th>\n",
       "      <td>ART_AND_DESIGN</td>\n",
       "      <td>3.8</td>\n",
       "      <td>19000.0</td>\n",
       "      <td>0.0</td>\n",
       "      <td>Everyone</td>\n",
       "      <td>10.819798</td>\n",
       "      <td>5.187386</td>\n",
       "    </tr>\n",
       "    <tr>\n",
       "      <th>...</th>\n",
       "      <td>...</td>\n",
       "      <td>...</td>\n",
       "      <td>...</td>\n",
       "      <td>...</td>\n",
       "      <td>...</td>\n",
       "      <td>...</td>\n",
       "      <td>...</td>\n",
       "    </tr>\n",
       "    <tr>\n",
       "      <th>6783</th>\n",
       "      <td>BOOKS_AND_REFERENCE</td>\n",
       "      <td>4.8</td>\n",
       "      <td>619.0</td>\n",
       "      <td>0.0</td>\n",
       "      <td>Everyone</td>\n",
       "      <td>6.908755</td>\n",
       "      <td>3.806662</td>\n",
       "    </tr>\n",
       "    <tr>\n",
       "      <th>6784</th>\n",
       "      <td>FAMILY</td>\n",
       "      <td>4.0</td>\n",
       "      <td>2600.0</td>\n",
       "      <td>0.0</td>\n",
       "      <td>Everyone</td>\n",
       "      <td>6.216606</td>\n",
       "      <td>2.079442</td>\n",
       "    </tr>\n",
       "    <tr>\n",
       "      <th>6785</th>\n",
       "      <td>FAMILY</td>\n",
       "      <td>4.5</td>\n",
       "      <td>53000.0</td>\n",
       "      <td>0.0</td>\n",
       "      <td>Everyone</td>\n",
       "      <td>8.517393</td>\n",
       "      <td>3.663562</td>\n",
       "    </tr>\n",
       "    <tr>\n",
       "      <th>6786</th>\n",
       "      <td>FAMILY</td>\n",
       "      <td>5.0</td>\n",
       "      <td>3600.0</td>\n",
       "      <td>0.0</td>\n",
       "      <td>Everyone</td>\n",
       "      <td>4.615121</td>\n",
       "      <td>1.609438</td>\n",
       "    </tr>\n",
       "    <tr>\n",
       "      <th>6787</th>\n",
       "      <td>LIFESTYLE</td>\n",
       "      <td>4.5</td>\n",
       "      <td>19000.0</td>\n",
       "      <td>0.0</td>\n",
       "      <td>Everyone</td>\n",
       "      <td>16.118096</td>\n",
       "      <td>12.894981</td>\n",
       "    </tr>\n",
       "  </tbody>\n",
       "</table>\n",
       "<p>6788 rows × 7 columns</p>\n",
       "</div>"
      ],
      "text/plain": [
       "                 Category  Rating     Size  Price Content Rating  \\\n",
       "0          ART_AND_DESIGN     4.1  19000.0    0.0       Everyone   \n",
       "1          ART_AND_DESIGN     4.7   8700.0    0.0       Everyone   \n",
       "2          ART_AND_DESIGN     4.3   2800.0    0.0       Everyone   \n",
       "3          ART_AND_DESIGN     4.4   5600.0    0.0       Everyone   \n",
       "4          ART_AND_DESIGN     3.8  19000.0    0.0       Everyone   \n",
       "...                   ...     ...      ...    ...            ...   \n",
       "6783  BOOKS_AND_REFERENCE     4.8    619.0    0.0       Everyone   \n",
       "6784               FAMILY     4.0   2600.0    0.0       Everyone   \n",
       "6785               FAMILY     4.5  53000.0    0.0       Everyone   \n",
       "6786               FAMILY     5.0   3600.0    0.0       Everyone   \n",
       "6787            LIFESTYLE     4.5  19000.0    0.0       Everyone   \n",
       "\n",
       "      Installs_log  Reviews_log  \n",
       "0         9.210440     5.075174  \n",
       "1        15.424949    11.379520  \n",
       "2        11.512935     6.875232  \n",
       "3        10.819798     5.123964  \n",
       "4        10.819798     5.187386  \n",
       "...            ...          ...  \n",
       "6783      6.908755     3.806662  \n",
       "6784      6.216606     2.079442  \n",
       "6785      8.517393     3.663562  \n",
       "6786      4.615121     1.609438  \n",
       "6787     16.118096    12.894981  \n",
       "\n",
       "[6788 rows x 7 columns]"
      ]
     },
     "execution_count": 76,
     "metadata": {},
     "output_type": "execute_result"
    }
   ],
   "source": [
    "inp2"
   ]
  },
  {
   "cell_type": "markdown",
   "id": "spare-shade",
   "metadata": {},
   "source": [
    "<p><b>c.</b> I will be making dummy variables for Category, Genres, and Content Rating and dropping the old columns last."
   ]
  },
  {
   "cell_type": "code",
   "execution_count": 77,
   "id": "perceived-exploration",
   "metadata": {},
   "outputs": [],
   "source": [
    "#getting dummy variables for each categorical column and concatenating it to the dataframe\n",
    "inp2 = pd.concat([inp2,pd.get_dummies(inp2[['Category','Content Rating']],drop_first=True)],axis=1)\n",
    "#dropping old columns\n",
    "inp2 = inp2.drop(['Category','Content Rating'],axis=1)"
   ]
  },
  {
   "cell_type": "markdown",
   "id": "clinical-november",
   "metadata": {},
   "source": [
    "## Building Linear Regression Model"
   ]
  },
  {
   "cell_type": "markdown",
   "id": "baking-voluntary",
   "metadata": {},
   "source": [
    "To build the model, I need to seperate my data into a testing dataframe and a training dataframe. I will use 70% of my data for the training dataframe and 30% for the testing dataset."
   ]
  },
  {
   "cell_type": "code",
   "execution_count": 78,
   "id": "strategic-pasta",
   "metadata": {},
   "outputs": [
    {
     "data": {
      "text/html": [
       "<div>\n",
       "<style scoped>\n",
       "    .dataframe tbody tr th:only-of-type {\n",
       "        vertical-align: middle;\n",
       "    }\n",
       "\n",
       "    .dataframe tbody tr th {\n",
       "        vertical-align: top;\n",
       "    }\n",
       "\n",
       "    .dataframe thead th {\n",
       "        text-align: right;\n",
       "    }\n",
       "</style>\n",
       "<table border=\"1\" class=\"dataframe\">\n",
       "  <thead>\n",
       "    <tr style=\"text-align: right;\">\n",
       "      <th></th>\n",
       "      <th>Rating</th>\n",
       "      <th>Size</th>\n",
       "      <th>Price</th>\n",
       "      <th>Installs_log</th>\n",
       "      <th>Reviews_log</th>\n",
       "      <th>Category_AUTO_AND_VEHICLES</th>\n",
       "      <th>Category_BEAUTY</th>\n",
       "      <th>Category_BOOKS_AND_REFERENCE</th>\n",
       "      <th>Category_BUSINESS</th>\n",
       "      <th>Category_COMICS</th>\n",
       "      <th>...</th>\n",
       "      <th>Category_SHOPPING</th>\n",
       "      <th>Category_SOCIAL</th>\n",
       "      <th>Category_SPORTS</th>\n",
       "      <th>Category_TOOLS</th>\n",
       "      <th>Category_TRAVEL_AND_LOCAL</th>\n",
       "      <th>Category_VIDEO_PLAYERS</th>\n",
       "      <th>Category_WEATHER</th>\n",
       "      <th>Content Rating_Everyone 10+</th>\n",
       "      <th>Content Rating_Mature 17+</th>\n",
       "      <th>Content Rating_Teen</th>\n",
       "    </tr>\n",
       "  </thead>\n",
       "  <tbody>\n",
       "    <tr>\n",
       "      <th>0</th>\n",
       "      <td>4.1</td>\n",
       "      <td>19000.0</td>\n",
       "      <td>0.0</td>\n",
       "      <td>9.210440</td>\n",
       "      <td>5.075174</td>\n",
       "      <td>0</td>\n",
       "      <td>0</td>\n",
       "      <td>0</td>\n",
       "      <td>0</td>\n",
       "      <td>0</td>\n",
       "      <td>...</td>\n",
       "      <td>0</td>\n",
       "      <td>0</td>\n",
       "      <td>0</td>\n",
       "      <td>0</td>\n",
       "      <td>0</td>\n",
       "      <td>0</td>\n",
       "      <td>0</td>\n",
       "      <td>0</td>\n",
       "      <td>0</td>\n",
       "      <td>0</td>\n",
       "    </tr>\n",
       "    <tr>\n",
       "      <th>1</th>\n",
       "      <td>4.7</td>\n",
       "      <td>8700.0</td>\n",
       "      <td>0.0</td>\n",
       "      <td>15.424949</td>\n",
       "      <td>11.379520</td>\n",
       "      <td>0</td>\n",
       "      <td>0</td>\n",
       "      <td>0</td>\n",
       "      <td>0</td>\n",
       "      <td>0</td>\n",
       "      <td>...</td>\n",
       "      <td>0</td>\n",
       "      <td>0</td>\n",
       "      <td>0</td>\n",
       "      <td>0</td>\n",
       "      <td>0</td>\n",
       "      <td>0</td>\n",
       "      <td>0</td>\n",
       "      <td>0</td>\n",
       "      <td>0</td>\n",
       "      <td>0</td>\n",
       "    </tr>\n",
       "    <tr>\n",
       "      <th>2</th>\n",
       "      <td>4.3</td>\n",
       "      <td>2800.0</td>\n",
       "      <td>0.0</td>\n",
       "      <td>11.512935</td>\n",
       "      <td>6.875232</td>\n",
       "      <td>0</td>\n",
       "      <td>0</td>\n",
       "      <td>0</td>\n",
       "      <td>0</td>\n",
       "      <td>0</td>\n",
       "      <td>...</td>\n",
       "      <td>0</td>\n",
       "      <td>0</td>\n",
       "      <td>0</td>\n",
       "      <td>0</td>\n",
       "      <td>0</td>\n",
       "      <td>0</td>\n",
       "      <td>0</td>\n",
       "      <td>0</td>\n",
       "      <td>0</td>\n",
       "      <td>0</td>\n",
       "    </tr>\n",
       "    <tr>\n",
       "      <th>3</th>\n",
       "      <td>4.4</td>\n",
       "      <td>5600.0</td>\n",
       "      <td>0.0</td>\n",
       "      <td>10.819798</td>\n",
       "      <td>5.123964</td>\n",
       "      <td>0</td>\n",
       "      <td>0</td>\n",
       "      <td>0</td>\n",
       "      <td>0</td>\n",
       "      <td>0</td>\n",
       "      <td>...</td>\n",
       "      <td>0</td>\n",
       "      <td>0</td>\n",
       "      <td>0</td>\n",
       "      <td>0</td>\n",
       "      <td>0</td>\n",
       "      <td>0</td>\n",
       "      <td>0</td>\n",
       "      <td>0</td>\n",
       "      <td>0</td>\n",
       "      <td>0</td>\n",
       "    </tr>\n",
       "    <tr>\n",
       "      <th>4</th>\n",
       "      <td>3.8</td>\n",
       "      <td>19000.0</td>\n",
       "      <td>0.0</td>\n",
       "      <td>10.819798</td>\n",
       "      <td>5.187386</td>\n",
       "      <td>0</td>\n",
       "      <td>0</td>\n",
       "      <td>0</td>\n",
       "      <td>0</td>\n",
       "      <td>0</td>\n",
       "      <td>...</td>\n",
       "      <td>0</td>\n",
       "      <td>0</td>\n",
       "      <td>0</td>\n",
       "      <td>0</td>\n",
       "      <td>0</td>\n",
       "      <td>0</td>\n",
       "      <td>0</td>\n",
       "      <td>0</td>\n",
       "      <td>0</td>\n",
       "      <td>0</td>\n",
       "    </tr>\n",
       "    <tr>\n",
       "      <th>...</th>\n",
       "      <td>...</td>\n",
       "      <td>...</td>\n",
       "      <td>...</td>\n",
       "      <td>...</td>\n",
       "      <td>...</td>\n",
       "      <td>...</td>\n",
       "      <td>...</td>\n",
       "      <td>...</td>\n",
       "      <td>...</td>\n",
       "      <td>...</td>\n",
       "      <td>...</td>\n",
       "      <td>...</td>\n",
       "      <td>...</td>\n",
       "      <td>...</td>\n",
       "      <td>...</td>\n",
       "      <td>...</td>\n",
       "      <td>...</td>\n",
       "      <td>...</td>\n",
       "      <td>...</td>\n",
       "      <td>...</td>\n",
       "      <td>...</td>\n",
       "    </tr>\n",
       "    <tr>\n",
       "      <th>6783</th>\n",
       "      <td>4.8</td>\n",
       "      <td>619.0</td>\n",
       "      <td>0.0</td>\n",
       "      <td>6.908755</td>\n",
       "      <td>3.806662</td>\n",
       "      <td>0</td>\n",
       "      <td>0</td>\n",
       "      <td>1</td>\n",
       "      <td>0</td>\n",
       "      <td>0</td>\n",
       "      <td>...</td>\n",
       "      <td>0</td>\n",
       "      <td>0</td>\n",
       "      <td>0</td>\n",
       "      <td>0</td>\n",
       "      <td>0</td>\n",
       "      <td>0</td>\n",
       "      <td>0</td>\n",
       "      <td>0</td>\n",
       "      <td>0</td>\n",
       "      <td>0</td>\n",
       "    </tr>\n",
       "    <tr>\n",
       "      <th>6784</th>\n",
       "      <td>4.0</td>\n",
       "      <td>2600.0</td>\n",
       "      <td>0.0</td>\n",
       "      <td>6.216606</td>\n",
       "      <td>2.079442</td>\n",
       "      <td>0</td>\n",
       "      <td>0</td>\n",
       "      <td>0</td>\n",
       "      <td>0</td>\n",
       "      <td>0</td>\n",
       "      <td>...</td>\n",
       "      <td>0</td>\n",
       "      <td>0</td>\n",
       "      <td>0</td>\n",
       "      <td>0</td>\n",
       "      <td>0</td>\n",
       "      <td>0</td>\n",
       "      <td>0</td>\n",
       "      <td>0</td>\n",
       "      <td>0</td>\n",
       "      <td>0</td>\n",
       "    </tr>\n",
       "    <tr>\n",
       "      <th>6785</th>\n",
       "      <td>4.5</td>\n",
       "      <td>53000.0</td>\n",
       "      <td>0.0</td>\n",
       "      <td>8.517393</td>\n",
       "      <td>3.663562</td>\n",
       "      <td>0</td>\n",
       "      <td>0</td>\n",
       "      <td>0</td>\n",
       "      <td>0</td>\n",
       "      <td>0</td>\n",
       "      <td>...</td>\n",
       "      <td>0</td>\n",
       "      <td>0</td>\n",
       "      <td>0</td>\n",
       "      <td>0</td>\n",
       "      <td>0</td>\n",
       "      <td>0</td>\n",
       "      <td>0</td>\n",
       "      <td>0</td>\n",
       "      <td>0</td>\n",
       "      <td>0</td>\n",
       "    </tr>\n",
       "    <tr>\n",
       "      <th>6786</th>\n",
       "      <td>5.0</td>\n",
       "      <td>3600.0</td>\n",
       "      <td>0.0</td>\n",
       "      <td>4.615121</td>\n",
       "      <td>1.609438</td>\n",
       "      <td>0</td>\n",
       "      <td>0</td>\n",
       "      <td>0</td>\n",
       "      <td>0</td>\n",
       "      <td>0</td>\n",
       "      <td>...</td>\n",
       "      <td>0</td>\n",
       "      <td>0</td>\n",
       "      <td>0</td>\n",
       "      <td>0</td>\n",
       "      <td>0</td>\n",
       "      <td>0</td>\n",
       "      <td>0</td>\n",
       "      <td>0</td>\n",
       "      <td>0</td>\n",
       "      <td>0</td>\n",
       "    </tr>\n",
       "    <tr>\n",
       "      <th>6787</th>\n",
       "      <td>4.5</td>\n",
       "      <td>19000.0</td>\n",
       "      <td>0.0</td>\n",
       "      <td>16.118096</td>\n",
       "      <td>12.894981</td>\n",
       "      <td>0</td>\n",
       "      <td>0</td>\n",
       "      <td>0</td>\n",
       "      <td>0</td>\n",
       "      <td>0</td>\n",
       "      <td>...</td>\n",
       "      <td>0</td>\n",
       "      <td>0</td>\n",
       "      <td>0</td>\n",
       "      <td>0</td>\n",
       "      <td>0</td>\n",
       "      <td>0</td>\n",
       "      <td>0</td>\n",
       "      <td>0</td>\n",
       "      <td>0</td>\n",
       "      <td>0</td>\n",
       "    </tr>\n",
       "  </tbody>\n",
       "</table>\n",
       "<p>6788 rows × 40 columns</p>\n",
       "</div>"
      ],
      "text/plain": [
       "      Rating     Size  Price  Installs_log  Reviews_log  \\\n",
       "0        4.1  19000.0    0.0      9.210440     5.075174   \n",
       "1        4.7   8700.0    0.0     15.424949    11.379520   \n",
       "2        4.3   2800.0    0.0     11.512935     6.875232   \n",
       "3        4.4   5600.0    0.0     10.819798     5.123964   \n",
       "4        3.8  19000.0    0.0     10.819798     5.187386   \n",
       "...      ...      ...    ...           ...          ...   \n",
       "6783     4.8    619.0    0.0      6.908755     3.806662   \n",
       "6784     4.0   2600.0    0.0      6.216606     2.079442   \n",
       "6785     4.5  53000.0    0.0      8.517393     3.663562   \n",
       "6786     5.0   3600.0    0.0      4.615121     1.609438   \n",
       "6787     4.5  19000.0    0.0     16.118096    12.894981   \n",
       "\n",
       "      Category_AUTO_AND_VEHICLES  Category_BEAUTY  \\\n",
       "0                              0                0   \n",
       "1                              0                0   \n",
       "2                              0                0   \n",
       "3                              0                0   \n",
       "4                              0                0   \n",
       "...                          ...              ...   \n",
       "6783                           0                0   \n",
       "6784                           0                0   \n",
       "6785                           0                0   \n",
       "6786                           0                0   \n",
       "6787                           0                0   \n",
       "\n",
       "      Category_BOOKS_AND_REFERENCE  Category_BUSINESS  Category_COMICS  ...  \\\n",
       "0                                0                  0                0  ...   \n",
       "1                                0                  0                0  ...   \n",
       "2                                0                  0                0  ...   \n",
       "3                                0                  0                0  ...   \n",
       "4                                0                  0                0  ...   \n",
       "...                            ...                ...              ...  ...   \n",
       "6783                             1                  0                0  ...   \n",
       "6784                             0                  0                0  ...   \n",
       "6785                             0                  0                0  ...   \n",
       "6786                             0                  0                0  ...   \n",
       "6787                             0                  0                0  ...   \n",
       "\n",
       "      Category_SHOPPING  Category_SOCIAL  Category_SPORTS  Category_TOOLS  \\\n",
       "0                     0                0                0               0   \n",
       "1                     0                0                0               0   \n",
       "2                     0                0                0               0   \n",
       "3                     0                0                0               0   \n",
       "4                     0                0                0               0   \n",
       "...                 ...              ...              ...             ...   \n",
       "6783                  0                0                0               0   \n",
       "6784                  0                0                0               0   \n",
       "6785                  0                0                0               0   \n",
       "6786                  0                0                0               0   \n",
       "6787                  0                0                0               0   \n",
       "\n",
       "      Category_TRAVEL_AND_LOCAL  Category_VIDEO_PLAYERS  Category_WEATHER  \\\n",
       "0                             0                       0                 0   \n",
       "1                             0                       0                 0   \n",
       "2                             0                       0                 0   \n",
       "3                             0                       0                 0   \n",
       "4                             0                       0                 0   \n",
       "...                         ...                     ...               ...   \n",
       "6783                          0                       0                 0   \n",
       "6784                          0                       0                 0   \n",
       "6785                          0                       0                 0   \n",
       "6786                          0                       0                 0   \n",
       "6787                          0                       0                 0   \n",
       "\n",
       "      Content Rating_Everyone 10+  Content Rating_Mature 17+  \\\n",
       "0                               0                          0   \n",
       "1                               0                          0   \n",
       "2                               0                          0   \n",
       "3                               0                          0   \n",
       "4                               0                          0   \n",
       "...                           ...                        ...   \n",
       "6783                            0                          0   \n",
       "6784                            0                          0   \n",
       "6785                            0                          0   \n",
       "6786                            0                          0   \n",
       "6787                            0                          0   \n",
       "\n",
       "      Content Rating_Teen  \n",
       "0                       0  \n",
       "1                       0  \n",
       "2                       0  \n",
       "3                       0  \n",
       "4                       0  \n",
       "...                   ...  \n",
       "6783                    0  \n",
       "6784                    0  \n",
       "6785                    0  \n",
       "6786                    0  \n",
       "6787                    0  \n",
       "\n",
       "[6788 rows x 40 columns]"
      ]
     },
     "execution_count": 78,
     "metadata": {},
     "output_type": "execute_result"
    }
   ],
   "source": [
    "inp2"
   ]
  },
  {
   "cell_type": "code",
   "execution_count": 79,
   "id": "fresh-elder",
   "metadata": {
    "scrolled": true
   },
   "outputs": [],
   "source": [
    "#randomly selecting the rows for the training dataframe and seperating it into\n",
    "#X and y values. random_state is used to reproduce the results.\n",
    "df_train = inp2.sample(frac = .70,random_state=1)\n",
    "X_train = df_train.drop('Rating',axis=1)\n",
    "y_train = df_train.Rating\n",
    "#Using the unused rows from inp2 for the testing dataframe and seperating it\n",
    "#into X and y values.\n",
    "df_test = inp2[inp2.index.isin(df_train.index)==False]\n",
    "X_test = df_test.drop('Rating',axis=1)\n",
    "y_test = df_test.Rating"
   ]
  },
  {
   "cell_type": "code",
   "execution_count": 80,
   "id": "considerable-copying",
   "metadata": {},
   "outputs": [
    {
     "data": {
      "text/plain": [
       "0.1353131265305313"
      ]
     },
     "execution_count": 80,
     "metadata": {},
     "output_type": "execute_result"
    }
   ],
   "source": [
    "regression = LinearRegression()\n",
    "regression.fit(X_train,y_train)\n",
    "r2_train = regression.score(X_train,y_train)\n",
    "r2_train"
   ]
  },
  {
   "cell_type": "markdown",
   "id": "worth-manual",
   "metadata": {},
   "source": [
    "The R_2 value is 0.135 for the training set. This shows the modeldoes not fit the data well."
   ]
  },
  {
   "cell_type": "code",
   "execution_count": 81,
   "id": "annoying-forwarding",
   "metadata": {},
   "outputs": [
    {
     "data": {
      "text/plain": [
       "0.12098318443583067"
      ]
     },
     "execution_count": 81,
     "metadata": {},
     "output_type": "execute_result"
    }
   ],
   "source": [
    "y_pred = regression.predict(X_test)\n",
    "r2_test = r2_score(y_test,y_pred)\n",
    "r2_test"
   ]
  },
  {
   "cell_type": "markdown",
   "id": "blond-executive",
   "metadata": {},
   "source": [
    "The R_2 value is 0.121 for the testing set. This shows the model is poor at predicting actual values."
   ]
  }
 ],
 "metadata": {
  "kernelspec": {
   "display_name": "Python 3",
   "language": "python",
   "name": "python3"
  },
  "language_info": {
   "codemirror_mode": {
    "name": "ipython",
    "version": 3
   },
   "file_extension": ".py",
   "mimetype": "text/x-python",
   "name": "python",
   "nbconvert_exporter": "python",
   "pygments_lexer": "ipython3",
   "version": "3.7.3"
  }
 },
 "nbformat": 4,
 "nbformat_minor": 5
}
